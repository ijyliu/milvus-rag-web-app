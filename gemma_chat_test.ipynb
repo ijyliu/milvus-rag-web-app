{
 "cells": [
  {
   "cell_type": "code",
   "execution_count": 59,
   "id": "4b41f77b",
   "metadata": {},
   "outputs": [],
   "source": [
    "import requests\n",
    "import json"
   ]
  },
  {
   "cell_type": "code",
   "execution_count": 60,
   "id": "92c28f85",
   "metadata": {},
   "outputs": [],
   "source": [
    "# Load service account credentials\n",
    "import os\n",
    "os.environ['GOOGLE_APPLICATION_CREDENTIALS'] = './Credentials/milvus-rag-web-app-service-account.json'"
   ]
  },
  {
   "cell_type": "code",
   "execution_count": 61,
   "id": "771b3226",
   "metadata": {},
   "outputs": [],
   "source": [
    "# Load URL/URI from Credentials/ollama_gemma_uri.txt\n",
    "with open('Credentials/ollama_gemma_uri.txt', 'r') as file:\n",
    "    url = file.read().strip()\n",
    "    # We're accessing /api/generate\n",
    "    url = url + '/api/generate'"
   ]
  },
  {
   "cell_type": "code",
   "execution_count": 62,
   "id": "efd5bd77",
   "metadata": {},
   "outputs": [],
   "source": [
    "# Get ID token\n",
    "import google.auth.transport.requests\n",
    "import google.oauth2.id_token\n",
    "\n",
    "auth_req = google.auth.transport.requests.Request()\n",
    "id_token = google.oauth2.id_token.fetch_id_token(auth_req, audience=url)"
   ]
  },
  {
   "cell_type": "code",
   "execution_count": 63,
   "id": "1de0acf4",
   "metadata": {},
   "outputs": [],
   "source": [
    "# Set headers and data for the request, and authentication\n",
    "headers = {'Content-Type': 'application/json', 'Authorization': f'Bearer {id_token}'}\n",
    "data = {\"model\": \"gemma3:1b\", \"prompt\": \"Why is the sky blue?\"}"
   ]
  },
  {
   "cell_type": "code",
   "execution_count": 64,
   "id": "215cc005",
   "metadata": {},
   "outputs": [],
   "source": [
    "try:\n",
    "    response = requests.post(url, headers=headers, data=json.dumps(data), stream=True)\n",
    "    response.raise_for_status()  # Raise an exception for bad status codes\n",
    "except requests.exceptions.RequestException as e:\n",
    "    print(f\"An error occurred: {e}\")"
   ]
  },
  {
   "cell_type": "code",
   "execution_count": 65,
   "id": "9be3a5ea",
   "metadata": {},
   "outputs": [
    {
     "name": "stdout",
     "output_type": "stream",
     "text": [
      "Full LLM Response:\n",
      "The sky is blue due to a phenomenon called **Rayleigh scattering**. Here's a breakdown of the explanation:\n",
      "\n",
      "**1. Sunlight Contains All Colors:**\n",
      "\n",
      "* Sunlight appears white to us, but it’s actually made up of all the colors of the rainbow – red, orange, yellow, green, blue, indigo, and violet.\n",
      "\n",
      "**2. Entering the Atmosphere:**\n",
      "\n",
      "* As sunlight enters the Earth’s atmosphere, it collides with tiny air molecules (mostly nitrogen and oxygen).\n",
      "\n",
      "**3. Rayleigh Scattering:**\n",
      "\n",
      "* This collision causes the sunlight to scatter in different directions.  **Rayleigh scattering** is the type of scattering that’s more effective when the particles are smaller than the wavelength of light.\n",
      "* **Blue and Violet Light Scatter More:**  Blue and violet light have shorter wavelengths than other colors.  Because of this, they are scattered *much* more strongly than other colors by these tiny air molecules.\n",
      "\n",
      "**4. What We See:**\n",
      "\n",
      "*  Since blue light is scattered so much more, it gets bounced around in all directions throughout the atmosphere.  This is why we see a blue sky.\n",
      "\n",
      "**Why not violet then?**\n",
      "\n",
      "* Violet light is scattered even more than blue light. However, our eyes are more sensitive to blue light, and the sun emits slightly less violet light.  Also, some violet light is absorbed by the upper atmosphere.\n",
      "\n",
      "**In short, the sky is blue because blue light from the sun is scattered more by the atmosphere than other colors.**\n",
      "\n",
      "**Think of it like throwing a bunch of small pebbles (blue light) and a bunch of larger rocks (other colors) at a muddy puddle. The smaller pebbles will bounce in every direction more easily than the larger rocks.**\n",
      "\n",
      "---\n",
      "\n",
      "**Want to know more?**\n",
      "\n",
      "* **Why are sunsets red/orange?**  At sunset, the sunlight travels through more of the atmosphere.  The blue light is scattered away, leaving the longer wavelengths like red and orange to dominate.\n",
      "* **Why isn't the sky dark?**  The Earth is rotating, meaning that as the sun sets, the earth's position shifts, casting more of the sun's light across the sky.\n",
      "\n",
      "\n",
      "Do you want to learn about a specific aspect of why the sky is blue, like its relationship to the sun's angle?\n"
     ]
    }
   ],
   "source": [
    "full_response = \"\"\n",
    "for line in response.iter_lines(decode_unicode=True):\n",
    "    if line:\n",
    "        try:\n",
    "            json_data = json.loads(line)\n",
    "            if \"response\" in json_data:\n",
    "                full_response += json_data[\"response\"]\n",
    "        except json.JSONDecodeError as e:\n",
    "            print(f\"Error decoding JSON: {e} - Line: {line}\")\n",
    "\n",
    "print(\"Full LLM Response:\")\n",
    "print(full_response)\n"
   ]
  }
 ],
 "metadata": {
  "kernelspec": {
   "display_name": "base",
   "language": "python",
   "name": "python3"
  },
  "language_info": {
   "codemirror_mode": {
    "name": "ipython",
    "version": 3
   },
   "file_extension": ".py",
   "mimetype": "text/x-python",
   "name": "python",
   "nbconvert_exporter": "python",
   "pygments_lexer": "ipython3",
   "version": "3.12.8"
  }
 },
 "nbformat": 4,
 "nbformat_minor": 5
}
