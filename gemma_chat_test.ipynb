{
 "cells": [
  {
   "cell_type": "code",
   "execution_count": 16,
   "id": "4b41f77b",
   "metadata": {},
   "outputs": [],
   "source": [
    "import requests\n",
    "import json"
   ]
  },
  {
   "cell_type": "code",
   "execution_count": 17,
   "id": "1de0acf4",
   "metadata": {},
   "outputs": [],
   "source": [
    "url = \"http://localhost:3000/api/generate\"\n",
    "headers = {'Content-Type': 'application/json'}\n",
    "data = {\"model\": \"gemma3:1b\", \"prompt\": \"Why is the sky blue?\"}"
   ]
  },
  {
   "cell_type": "code",
   "execution_count": 18,
   "id": "215cc005",
   "metadata": {},
   "outputs": [],
   "source": [
    "try:\n",
    "    response = requests.post(url, headers=headers, data=json.dumps(data), stream=True)\n",
    "    response.raise_for_status()  # Raise an exception for bad status codes\n",
    "except requests.exceptions.RequestException as e:\n",
    "    print(f\"An error occurred: {e}\")"
   ]
  },
  {
   "cell_type": "code",
   "execution_count": 19,
   "id": "9be3a5ea",
   "metadata": {},
   "outputs": [
    {
     "name": "stdout",
     "output_type": "stream",
     "text": [
      "Full LLM Response:\n",
      "The sky is blue due to a phenomenon called **Rayleigh scattering**. Here's a breakdown of why it happens:\n",
      "\n",
      "**1. Sunlight Contains All Colors:**\n",
      "\n",
      "* Sunlight appears white to us, but it's actually made up of all the colors of the rainbow – red, orange, yellow, green, blue, indigo, and violet.\n",
      "\n",
      "**2. Entering the Earth's Atmosphere:**\n",
      "\n",
      "* As sunlight enters the Earth's atmosphere, it bumps into tiny particles like nitrogen and oxygen molecules.\n",
      "\n",
      "**3. Rayleigh Scattering - The Key Process:**\n",
      "\n",
      "* **Rayleigh scattering** is the scattering of electromagnetic radiation (like light) by particles of a much smaller wavelength.  This means shorter wavelengths (blue and violet) are scattered much more strongly than longer wavelengths (red and orange).\n",
      "* **Why blue, not violet?**  Violet light is scattered even more than blue light, but our eyes are less sensitive to violet. Additionally, the sun emits slightly less violet light, and some of it is absorbed by the upper atmosphere.\n",
      "\n",
      "\n",
      "**4. What We See - A Blue Sky:**\n",
      "\n",
      "* Because blue light is scattered more, it's dispersed throughout the sky, making the sky appear blue to us. \n",
      "\n",
      "**Think of it like this:** Imagine throwing a handful of small marbles (blue light) and a handful of larger balls (red light) at a bumpy surface. The small marbles are more likely to bounce off in different directions, making the surface appear more colorful.\n",
      "\n",
      "\n",
      "**Why sunsets are red/orange:**\n",
      "\n",
      "During sunrise and sunset, the sunlight has to travel through *much* more of the atmosphere to reach our eyes.  This longer path means that most of the blue light is scattered away. The longer wavelengths (reds and oranges) are less affected and can travel further, resulting in the beautiful colors we see.\n",
      "\n",
      "---\n",
      "\n",
      "**Resources for further learning:**\n",
      "\n",
      "* **NASA - EarthSky:** [https://earthsky.org/2018/05/why-is-the-sky-blue/](https://earthsky.org/2018/05/why-is-the-sky-blue/)\n",
      "* **Science Candy - Rayleigh Scattering:** [https://www.sciencecandy.com/science-candy/rayleigh-scattering](https://www.sciencecandy.com/science-candy/rayleigh-scattering)\n",
      "\n",
      "Do you want to know anything more specific about this phenomenon, like how it relates to weather or atmospheric conditions?\n"
     ]
    }
   ],
   "source": [
    "full_response = \"\"\n",
    "for line in response.iter_lines(decode_unicode=True):\n",
    "    if line:\n",
    "        try:\n",
    "            json_data = json.loads(line)\n",
    "            if \"response\" in json_data:\n",
    "                full_response += json_data[\"response\"]\n",
    "        except json.JSONDecodeError as e:\n",
    "            print(f\"Error decoding JSON: {e} - Line: {line}\")\n",
    "\n",
    "print(\"Full LLM Response:\")\n",
    "print(full_response)\n"
   ]
  }
 ],
 "metadata": {
  "kernelspec": {
   "display_name": "base",
   "language": "python",
   "name": "python3"
  },
  "language_info": {
   "codemirror_mode": {
    "name": "ipython",
    "version": 3
   },
   "file_extension": ".py",
   "mimetype": "text/x-python",
   "name": "python",
   "nbconvert_exporter": "python",
   "pygments_lexer": "ipython3",
   "version": "3.12.8"
  }
 },
 "nbformat": 4,
 "nbformat_minor": 5
}
