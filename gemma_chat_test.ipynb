{
 "cells": [
  {
   "cell_type": "code",
   "execution_count": 1,
   "id": "4b41f77b",
   "metadata": {},
   "outputs": [],
   "source": [
    "import requests\n",
    "import json"
   ]
  },
  {
   "cell_type": "code",
   "execution_count": 2,
   "id": "92c28f85",
   "metadata": {},
   "outputs": [],
   "source": [
    "# Load service account credentials\n",
    "import os\n",
    "os.environ['GOOGLE_APPLICATION_CREDENTIALS'] = './Credentials/milvus-rag-web-app-service-account.json'"
   ]
  },
  {
   "cell_type": "code",
   "execution_count": 3,
   "id": "771b3226",
   "metadata": {},
   "outputs": [],
   "source": [
    "# Load URL/URI from Credentials/ollama_gemma_uri.txt\n",
    "with open('Credentials/ollama_gemma_uri.txt', 'r') as file:\n",
    "    url = file.read().strip()\n",
    "    # We're accessing /api/generate\n",
    "    url = url + '/api/generate'"
   ]
  },
  {
   "cell_type": "code",
   "execution_count": 4,
   "id": "efd5bd77",
   "metadata": {},
   "outputs": [],
   "source": [
    "# Get ID token\n",
    "import google.auth.transport.requests\n",
    "import google.oauth2.id_token\n",
    "\n",
    "auth_req = google.auth.transport.requests.Request()\n",
    "id_token = google.oauth2.id_token.fetch_id_token(auth_req, audience=url)"
   ]
  },
  {
   "cell_type": "code",
   "execution_count": 5,
   "id": "1de0acf4",
   "metadata": {},
   "outputs": [],
   "source": [
    "# Set headers and data for the request, and authentication\n",
    "headers = {'Content-Type': 'application/json', 'Authorization': f'Bearer {id_token}'}\n",
    "data = {\"model\": \"gemma3:1b\", \"prompt\": \"Why is the sky blue?\"}"
   ]
  },
  {
   "cell_type": "code",
   "execution_count": 6,
   "id": "215cc005",
   "metadata": {},
   "outputs": [],
   "source": [
    "try:\n",
    "    response = requests.post(url, headers=headers, data=json.dumps(data), stream=True)\n",
    "    response.raise_for_status()  # Raise an exception for bad status codes\n",
    "except requests.exceptions.RequestException as e:\n",
    "    print(f\"An error occurred: {e}\")"
   ]
  },
  {
   "cell_type": "code",
   "execution_count": 7,
   "id": "9be3a5ea",
   "metadata": {},
   "outputs": [
    {
     "name": "stdout",
     "output_type": "stream",
     "text": [
      "Full LLM Response:\n",
      "The sky is blue because of a phenomenon called **Rayleigh scattering**. Here's a breakdown of why it happens:\n",
      "\n",
      "* **Sunlight is made of all colors:** White sunlight is actually a mix of all the colors of the rainbow.\n",
      "\n",
      "* **Sunlight enters the Earth's atmosphere:** When sunlight enters the Earth's atmosphere, it bumps into tiny air molecules (mostly nitrogen and oxygen).\n",
      "\n",
      "* **Blue light scatters more:**  Rayleigh scattering describes how light is scattered by particles. Blue and violet light have shorter wavelengths than other colors like red and orange.  This means blue light is scattered more efficiently by these air molecules.\n",
      "\n",
      "* **We see the scattered blue light:** Because blue light is scattered more, it spreads out across the sky.  This is why we see a blue sky!\n",
      "\n",
      "**Why not violet then?**\n",
      "\n",
      "Violet light is scattered even *more* than blue light. However:\n",
      "\n",
      "* **The sun emits less violet:**  The sun actually emits less violet light than blue light.\n",
      "* **Our eyes are less sensitive to violet:** Our eyes are also less sensitive to violet light than blue light.\n",
      "\n",
      "**Think of it like this:** Imagine throwing a handful of small marbles (blue light) and a handful of large marbles (red light) at a bumpy surface. The small marbles are more likely to bounce off in all directions, while the large marbles tend to roll straight through.\n",
      "\n",
      "**In short, the sky appears blue because blue light is scattered more by the atmosphere than other colors.**\n",
      "\n",
      "---\n",
      "\n",
      "**Want to learn more?**\n",
      "\n",
      "* **NASA - Rayleigh Scattering:** [https://science.nasa.gov/imagery/rayleigh-scattering/](https://science.nasa.gov/imagery/rayleigh-scattering/)\n",
      "* **National Geographic - Why is the Sky Blue?** [https://www.nationalgeographic.com/science/2014/05/why-is-the-sky-blue](https://www.nationalgeographic.com/science/2014/05/why-is-the-sky-blue/)\n"
     ]
    }
   ],
   "source": [
    "full_response = \"\"\n",
    "for line in response.iter_lines(decode_unicode=True):\n",
    "    if line:\n",
    "        try:\n",
    "            json_data = json.loads(line)\n",
    "            if \"response\" in json_data:\n",
    "                full_response += json_data[\"response\"]\n",
    "        except json.JSONDecodeError as e:\n",
    "            print(f\"Error decoding JSON: {e} - Line: {line}\")\n",
    "\n",
    "print(\"Full LLM Response:\")\n",
    "print(full_response)\n"
   ]
  }
 ],
 "metadata": {
  "kernelspec": {
   "display_name": "milvus-rag-web-app",
   "language": "python",
   "name": "python3"
  },
  "language_info": {
   "codemirror_mode": {
    "name": "ipython",
    "version": 3
   },
   "file_extension": ".py",
   "mimetype": "text/x-python",
   "name": "python",
   "nbconvert_exporter": "python",
   "pygments_lexer": "ipython3",
   "version": "3.12.10"
  }
 },
 "nbformat": 4,
 "nbformat_minor": 5
}
