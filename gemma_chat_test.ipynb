{
 "cells": [
  {
   "cell_type": "code",
   "execution_count": 6,
   "id": "4b41f77b",
   "metadata": {},
   "outputs": [],
   "source": [
    "import requests\n",
    "import json"
   ]
  },
  {
   "cell_type": "code",
   "execution_count": 7,
   "id": "771b3226",
   "metadata": {},
   "outputs": [],
   "source": [
    "# Load URL/URI from Credentials/ollama_gemma_uri.txt\n",
    "with open('Credentials/ollama_gemma_uri.txt', 'r') as file:\n",
    "    url = file.read().strip()\n",
    "    # We're accessing /api/generate\n",
    "    url = url + '/api/generate'"
   ]
  },
  {
   "cell_type": "code",
   "execution_count": 8,
   "id": "1de0acf4",
   "metadata": {},
   "outputs": [],
   "source": [
    "headers = {'Content-Type': 'application/json'}\n",
    "data = {\"model\": \"gemma3:1b\", \"prompt\": \"Why is the sky blue?\"}"
   ]
  },
  {
   "cell_type": "code",
   "execution_count": 9,
   "id": "215cc005",
   "metadata": {},
   "outputs": [],
   "source": [
    "try:\n",
    "    response = requests.post(url, headers=headers, data=json.dumps(data), stream=True)\n",
    "    response.raise_for_status()  # Raise an exception for bad status codes\n",
    "except requests.exceptions.RequestException as e:\n",
    "    print(f\"An error occurred: {e}\")"
   ]
  },
  {
   "cell_type": "code",
   "execution_count": 10,
   "id": "9be3a5ea",
   "metadata": {},
   "outputs": [
    {
     "name": "stdout",
     "output_type": "stream",
     "text": [
      "Full LLM Response:\n",
      "The sky appears blue due to a phenomenon called **Rayleigh scattering**. Here's a breakdown of how it works:\n",
      "\n",
      "* **Sunlight Contains All Colors:** Sunlight, from the sun, is actually made up of all the colors of the rainbow.\n",
      "\n",
      "* **Entering the Atmosphere:** When sunlight enters the Earth's atmosphere, it collides with tiny air molecules (mostly nitrogen and oxygen).\n",
      "\n",
      "* **Rayleigh Scattering:** This collision causes the sunlight to scatter in different directions.  This scattering is more effective for shorter wavelengths of light – blue and violet – than for longer wavelengths like red and orange.\n",
      "\n",
      "* **Why Blue, Not Violet?** Violet light is scattered even more than blue light. However, our eyes are more sensitive to blue light, and the sun emits slightly less violet.  Therefore, we see the sky as blue.\n",
      "\n",
      "**Think of it like this:** Imagine throwing a handful of small marbles (blue light) and a handful of larger marbles (red light) at a bumpy surface. The small marbles are more likely to bounce off in different directions.\n",
      "\n",
      "**Here's a simple analogy:**\n",
      "\n",
      "Imagine throwing a bunch of bouncy balls at a room filled with smaller obstacles. The smaller balls will bounce around much more than the larger balls. That's essentially what's happening with sunlight – the shorter wavelengths (blue and violet) are scattered more effectively.\n",
      "\n",
      "\n",
      "**In short, the blue color we see in the sky is a result of light being scattered by the atmosphere.**\n",
      "\n",
      "---\n",
      "\n",
      "**Want to know more?**\n",
      "\n",
      "*   **Do you want to learn about why sunsets are red/orange?**\n",
      "*   **Are you curious about how the amount of sunlight affects the color of the sky?**\n"
     ]
    }
   ],
   "source": [
    "full_response = \"\"\n",
    "for line in response.iter_lines(decode_unicode=True):\n",
    "    if line:\n",
    "        try:\n",
    "            json_data = json.loads(line)\n",
    "            if \"response\" in json_data:\n",
    "                full_response += json_data[\"response\"]\n",
    "        except json.JSONDecodeError as e:\n",
    "            print(f\"Error decoding JSON: {e} - Line: {line}\")\n",
    "\n",
    "print(\"Full LLM Response:\")\n",
    "print(full_response)\n"
   ]
  }
 ],
 "metadata": {
  "kernelspec": {
   "display_name": "base",
   "language": "python",
   "name": "python3"
  },
  "language_info": {
   "codemirror_mode": {
    "name": "ipython",
    "version": 3
   },
   "file_extension": ".py",
   "mimetype": "text/x-python",
   "name": "python",
   "nbconvert_exporter": "python",
   "pygments_lexer": "ipython3",
   "version": "3.12.8"
  }
 },
 "nbformat": 4,
 "nbformat_minor": 5
}
