{
 "cells": [
  {
   "cell_type": "code",
   "execution_count": 21,
   "id": "4b41f77b",
   "metadata": {},
   "outputs": [],
   "source": [
    "import requests\n",
    "import json"
   ]
  },
  {
   "cell_type": "code",
   "execution_count": 22,
   "id": "1de0acf4",
   "metadata": {},
   "outputs": [],
   "source": [
    "# Set headers and data for the request, and authentication\n",
    "headers = {'Content-Type': 'application/json'}\n",
    "data = {\"model\": \"gemma3:1b\", \n",
    "        \"messages\": [{\"role\": \"user\", \"content\": \"Hello, how are you?\"}],\n",
    "        }"
   ]
  },
  {
   "cell_type": "code",
   "execution_count": 23,
   "id": "215cc005",
   "metadata": {},
   "outputs": [],
   "source": [
    "try:\n",
    "    response = requests.post(url='http://localhost:3000/v1/chat/completions',\n",
    "                             headers=headers, \n",
    "                             data=json.dumps(data), \n",
    "                             stream=True)\n",
    "    response.raise_for_status()  # Raise an exception for bad status codes\n",
    "except requests.exceptions.RequestException as e:\n",
    "    print(f\"An error occurred: {e}\")"
   ]
  },
  {
   "cell_type": "code",
   "execution_count": 24,
   "id": "cafc0ea6",
   "metadata": {},
   "outputs": [
    {
     "name": "stdout",
     "output_type": "stream",
     "text": [
      "{'role': 'assistant', 'content': \"Hello! I’m doing well, thanks for asking. It's good to be chatting with you. 😊 How about you? How’s your day going so far?\"}\n"
     ]
    }
   ],
   "source": [
    "print(response.json()['choices'][0]['message'])"
   ]
  },
  {
   "cell_type": "code",
   "execution_count": 25,
   "id": "9be3a5ea",
   "metadata": {},
   "outputs": [],
   "source": [
    "# full_response = \"\"\n",
    "# for line in response.iter_lines(decode_unicode=True):\n",
    "#     if line:\n",
    "#         try:\n",
    "#             json_data = json.loads(line)\n",
    "#             if \"response\" in json_data:\n",
    "#                 full_response += json_data[\"response\"]\n",
    "#         except json.JSONDecodeError as e:\n",
    "#             print(f\"Error decoding JSON: {e} - Line: {line}\")\n",
    "\n",
    "# print(\"Full LLM Response:\")\n",
    "# print(full_response)\n"
   ]
  }
 ],
 "metadata": {
  "kernelspec": {
   "display_name": "milvus-rag-web-app",
   "language": "python",
   "name": "python3"
  },
  "language_info": {
   "codemirror_mode": {
    "name": "ipython",
    "version": 3
   },
   "file_extension": ".py",
   "mimetype": "text/x-python",
   "name": "python",
   "nbconvert_exporter": "python",
   "pygments_lexer": "ipython3",
   "version": "3.13.3"
  }
 },
 "nbformat": 4,
 "nbformat_minor": 5
}
