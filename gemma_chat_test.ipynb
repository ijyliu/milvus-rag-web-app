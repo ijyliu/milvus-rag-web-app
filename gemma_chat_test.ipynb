{
 "cells": [
  {
   "cell_type": "code",
   "execution_count": 20,
   "id": "4b41f77b",
   "metadata": {},
   "outputs": [],
   "source": [
    "import requests\n",
    "import json"
   ]
  },
  {
   "cell_type": "code",
   "execution_count": 21,
   "id": "1de0acf4",
   "metadata": {},
   "outputs": [],
   "source": [
    "# Set headers and data for the request, and authentication\n",
    "headers = {'Content-Type': 'application/json'}\n",
    "data = {\"model\": \"gemma3:1b\", \n",
    "        \"messages\": [{\"role\": \"user\", \"content\": \"Hello, how are you?\"}],\n",
    "        }"
   ]
  },
  {
   "cell_type": "code",
   "execution_count": 22,
   "id": "215cc005",
   "metadata": {},
   "outputs": [],
   "source": [
    "try:\n",
    "    response = requests.post(url='http://localhost:3000/v1/chat/completions',\n",
    "                             headers=headers, \n",
    "                             data=json.dumps(data), \n",
    "                             stream=True)\n",
    "    response.raise_for_status()  # Raise an exception for bad status codes\n",
    "except requests.exceptions.RequestException as e:\n",
    "    print(f\"An error occurred: {e}\")"
   ]
  },
  {
   "cell_type": "code",
   "execution_count": 23,
   "id": "cafc0ea6",
   "metadata": {},
   "outputs": [
    {
     "name": "stdout",
     "output_type": "stream",
     "text": [
      "{'role': 'assistant', 'content': \"Hello there! I'm doing well, thanks for asking. As an AI, I don’t experience feelings in the same way humans do, but I’m functioning perfectly and ready to help you with whatever you need. 😊 \\n\\nHow about you? How’s your day going?\"}\n"
     ]
    }
   ],
   "source": [
    "print(response.json()['choices'][0]['message'])"
   ]
  },
  {
   "cell_type": "code",
   "execution_count": 24,
   "id": "9be3a5ea",
   "metadata": {},
   "outputs": [],
   "source": [
    "# full_response = \"\"\n",
    "# for line in response.iter_lines(decode_unicode=True):\n",
    "#     if line:\n",
    "#         try:\n",
    "#             json_data = json.loads(line)\n",
    "#             if \"response\" in json_data:\n",
    "#                 full_response += json_data[\"response\"]\n",
    "#         except json.JSONDecodeError as e:\n",
    "#             print(f\"Error decoding JSON: {e} - Line: {line}\")\n",
    "\n",
    "# print(\"Full LLM Response:\")\n",
    "# print(full_response)\n"
   ]
  },
  {
   "cell_type": "markdown",
   "id": "29065181",
   "metadata": {},
   "source": [
    "## Testing generate endpoint"
   ]
  },
  {
   "cell_type": "code",
   "execution_count": 25,
   "id": "3330397d",
   "metadata": {},
   "outputs": [],
   "source": [
    "import requests\n",
    "import json\n",
    "\n",
    "# Set data for the request\n",
    "data = {'model': \"gemma3:1b\", \n",
    "        'prompt': \"Why is the sky blue?\",}\n",
    "\n",
    "# Generate endpoint URL for the chat model\n",
    "chat_model_url = \"http://host.docker.internal:3000\"\n",
    "generate_endpoint = chat_model_url + '/api/generate'\n",
    "\n",
    "# Make request\n",
    "response = requests.post(url=generate_endpoint,\n",
    "                             data=json.dumps(data))\n",
    "\n",
    "# Get response by iterating\n",
    "full_response = \"\"\n",
    "for line in response.iter_lines(decode_unicode=True):\n",
    "    if line:\n",
    "        try:\n",
    "            json_data = json.loads(line)\n",
    "            if \"response\" in json_data:\n",
    "                full_response += json_data[\"response\"]\n",
    "        except json.JSONDecodeError as e:\n",
    "            print(f\"Error decoding JSON: {e} - Line: {line}\")"
   ]
  },
  {
   "cell_type": "code",
   "execution_count": 26,
   "id": "bacd5155",
   "metadata": {},
   "outputs": [
    {
     "name": "stdout",
     "output_type": "stream",
     "text": [
      "The sky is blue due to a phenomenon called **Rayleigh scattering**. Here's a breakdown of why it happens:\n",
      "\n",
      "1. **Sunlight is made of all colors:** White sunlight actually contains all the colors of the rainbow – red, orange, yellow, green, blue, indigo, and violet.\n",
      "\n",
      "2. **Entering the atmosphere:** When sunlight enters the Earth's atmosphere, it bumps into tiny air molecules (mostly nitrogen and oxygen).\n",
      "\n",
      "3. **Scattering of light:** This interaction causes the sunlight to scatter in different directions. This is Rayleigh scattering – it's more effective with shorter wavelengths of light.\n",
      "\n",
      "4. **Blue light scatters the most:** Blue and violet light have shorter wavelengths than other colors.  Because of this, they are scattered much more intensely than other colors.\n",
      "\n",
      "5. **We see the blue sky:**  Because blue light is scattered more, it gets dispersed across the sky, making it appear blue to our eyes.\n",
      "\n",
      "**Why not violet then?**  Violet light is scattered even more than blue, but the sun emits less violet light than blue, and our eyes are more sensitive to blue.\n",
      "\n",
      "\n",
      "**Think of it like this:** Imagine throwing a handful of small marbles (blue light) and a handful of larger balls (red light) at a bumpy surface. The smaller marbles are more likely to bounce off in all directions.\n",
      "\n",
      "\n",
      "**In short, the sky is blue because of the way sunlight interacts with the atmosphere.**\n",
      "\n",
      "---\n",
      "\n",
      "**Resources for more information:**\n",
      "\n",
      "*   **NASA - Rayleigh Scattering:** [https://science.nasa.gov/space-exploration/earth-sun/scattering/rayleigh-scattering/](https://science.nasa.gov/space-exploration/earth-sun/scattering/rayleigh-scattering/)\n",
      "*   **National Geographic - Why is the sky blue?:** [https://www.nationalgeographic.com/science/2018/07/why-is-the-sky-blue](https://www.nationalgeographic.com/science/2018/07/why-is-the-sky-blue)\n",
      "\n",
      "Do you want to learn more about:\n",
      "\n",
      "*   How the atmosphere affects light?\n",
      "*   Why sunsets are red/orange?\n"
     ]
    }
   ],
   "source": [
    "print(full_response)"
   ]
  }
 ],
 "metadata": {
  "kernelspec": {
   "display_name": "milvus-rag-web-app",
   "language": "python",
   "name": "python3"
  },
  "language_info": {
   "codemirror_mode": {
    "name": "ipython",
    "version": 3
   },
   "file_extension": ".py",
   "mimetype": "text/x-python",
   "name": "python",
   "nbconvert_exporter": "python",
   "pygments_lexer": "ipython3",
   "version": "3.13.3"
  }
 },
 "nbformat": 4,
 "nbformat_minor": 5
}
