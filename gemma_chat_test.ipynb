{
 "cells": [
  {
   "cell_type": "code",
   "execution_count": 1,
   "id": "4b41f77b",
   "metadata": {},
   "outputs": [],
   "source": [
    "import requests\n",
    "import json"
   ]
  },
  {
   "cell_type": "code",
   "execution_count": 2,
   "id": "1de0acf4",
   "metadata": {},
   "outputs": [],
   "source": [
    "# Set headers and data for the request, and authentication\n",
    "headers = {'Content-Type': 'application/json'}\n",
    "data = {\"model\": \"gemma3:1b\", \"prompt\": \"Why is the sky blue?\"}"
   ]
  },
  {
   "cell_type": "code",
   "execution_count": 3,
   "id": "215cc005",
   "metadata": {},
   "outputs": [],
   "source": [
    "try:\n",
    "    response = requests.post(url='http://localhost:3000/api/generate',\n",
    "                             headers=headers, \n",
    "                             data=json.dumps(data), \n",
    "                             stream=True)\n",
    "    response.raise_for_status()  # Raise an exception for bad status codes\n",
    "except requests.exceptions.RequestException as e:\n",
    "    print(f\"An error occurred: {e}\")"
   ]
  },
  {
   "cell_type": "code",
   "execution_count": 4,
   "id": "9be3a5ea",
   "metadata": {},
   "outputs": [
    {
     "name": "stdout",
     "output_type": "stream",
     "text": [
      "Full LLM Response:\n",
      "The sky is blue due to a phenomenon called **Rayleigh scattering**. Here's a breakdown of why it happens:\n",
      "\n",
      "* **Sunlight is made of all colors:** Sunlight appears white to us, but it's actually made up of all the colors of the rainbow.\n",
      "\n",
      "* **Entering the Atmosphere:** When sunlight enters the Earth's atmosphere, it collides with tiny air molecules (mostly nitrogen and oxygen).\n",
      "\n",
      "* **Rayleigh Scattering:** This collision causes the light to scatter in different directions.  **Rayleigh scattering is much more effective at scattering shorter wavelengths of light – blue and violet – than longer wavelengths like red and orange.**\n",
      "\n",
      "* **Blue Dominates:** Because blue light is scattered more, it spreads out across the sky, making it appear blue to our eyes.\n",
      "\n",
      "**Why not violet?**  Violet light is scattered even more than blue, but:\n",
      "    * The sun emits less violet light than blue.\n",
      "    * Our eyes are less sensitive to violet light.\n",
      "\n",
      "**Think of it like this:** Imagine throwing a handful of marbles (blue light) and pebbles (red light) at a bumpy surface. The marbles are more likely to bounce off in random directions, while the pebbles are more likely to travel in a straight line.\n",
      "\n",
      "**Sunsets and Sunrises:** At sunset and sunrise, the sunlight has to travel through much more of the atmosphere. This longer path means even *more* of the blue light is scattered away, leaving the longer wavelengths – like orange and red – to dominate the view.\n",
      "\n",
      "---\n",
      "\n",
      "**Resources for further learning:**\n",
      "\n",
      "* **NASA - Sky & Weather:** [https://climate.nasa.gov/sky-and-weather/sky-colors/](https://climate.nasa.gov/sky-and-weather/sky-colors/)\n",
      "* **Science Buddies - Rayleigh Scattering:** [https://science Buddies.com/science-fair-projects/rayleigh-scattering](https://science Buddies.com/science-fair-projects/rayleigh-scattering)\n",
      "\n",
      "Do you want to know anything more specific about this phenomenon, like why it's more intense at certain times of the day, or how it relates to why the sky is darker at night?\n"
     ]
    }
   ],
   "source": [
    "full_response = \"\"\n",
    "for line in response.iter_lines(decode_unicode=True):\n",
    "    if line:\n",
    "        try:\n",
    "            json_data = json.loads(line)\n",
    "            if \"response\" in json_data:\n",
    "                full_response += json_data[\"response\"]\n",
    "        except json.JSONDecodeError as e:\n",
    "            print(f\"Error decoding JSON: {e} - Line: {line}\")\n",
    "\n",
    "print(\"Full LLM Response:\")\n",
    "print(full_response)\n"
   ]
  }
 ],
 "metadata": {
  "kernelspec": {
   "display_name": "milvus-rag-web-app",
   "language": "python",
   "name": "python3"
  },
  "language_info": {
   "codemirror_mode": {
    "name": "ipython",
    "version": 3
   },
   "file_extension": ".py",
   "mimetype": "text/x-python",
   "name": "python",
   "nbconvert_exporter": "python",
   "pygments_lexer": "ipython3",
   "version": "3.13.3"
  }
 },
 "nbformat": 4,
 "nbformat_minor": 5
}
