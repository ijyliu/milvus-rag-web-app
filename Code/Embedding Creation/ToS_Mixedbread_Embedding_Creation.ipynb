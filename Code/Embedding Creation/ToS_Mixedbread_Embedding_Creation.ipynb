{
 "cells": [
  {
   "cell_type": "markdown",
   "metadata": {},
   "source": [
    "# ToS Mixedbread Embedding Creation\n",
    "\n",
    "State-of-the-art sentence embeddings from mixedbread.ai. \n",
    "\n",
    "https://huggingface.co/mixedbread-ai/mxbai-embed-large-v1."
   ]
  },
  {
   "cell_type": "code",
   "execution_count": 1,
   "metadata": {
    "execution": {
     "iopub.execute_input": "2024-04-10T19:49:09.173902Z",
     "iopub.status.busy": "2024-04-10T19:49:09.172490Z",
     "iopub.status.idle": "2024-04-10T19:49:15.854640Z",
     "shell.execute_reply": "2024-04-10T19:49:15.854041Z"
    }
   },
   "outputs": [
    {
     "name": "stderr",
     "output_type": "stream",
     "text": [
      "/scratch/users/ijyliu/conda/envs/scf_general/lib/python3.11/site-packages/tqdm/auto.py:21: TqdmWarning: IProgress not found. Please update jupyter and ipywidgets. See https://ipywidgets.readthedocs.io/en/stable/user_install.html\n",
      "  from .autonotebook import tqdm as notebook_tqdm\n"
     ]
    },
    {
     "name": "stderr",
     "output_type": "stream",
     "text": [
      "/scratch/users/ijyliu/conda/envs/scf_general/lib/python3.11/site-packages/transformers/utils/hub.py:124: FutureWarning: Using `TRANSFORMERS_CACHE` is deprecated and will be removed in v5 of Transformers. Use `HF_HOME` instead.\n",
      "  warnings.warn(\n"
     ]
    },
    {
     "name": "stderr",
     "output_type": "stream",
     "text": [
      "[nltk_data] Downloading package punkt to\n",
      "[nltk_data]     /accounts/grad/ijyliu/nltk_data...\n",
      "[nltk_data]   Package punkt is already up-to-date!\n"
     ]
    }
   ],
   "source": [
    "# Packages\n",
    "from sentence_transformers import SentenceTransformer\n",
    "# NLTK for sentence tokenization\n",
    "import nltk\n",
    "nltk.download('punkt')\n",
    "# Torch to move to GPU\n",
    "import torch\n",
    "import os\n",
    "import pandas as pd\n",
    "#import time"
   ]
  },
  {
   "cell_type": "code",
   "execution_count": 2,
   "metadata": {
    "execution": {
     "iopub.execute_input": "2024-04-10T19:49:15.857749Z",
     "iopub.status.busy": "2024-04-10T19:49:15.857347Z",
     "iopub.status.idle": "2024-04-10T19:49:15.861173Z",
     "shell.execute_reply": "2024-04-10T19:49:15.860621Z"
    }
   },
   "outputs": [],
   "source": [
    "# Flag for if this is a sample run or not\n",
    "sample_run = False"
   ]
  },
  {
   "cell_type": "markdown",
   "metadata": {},
   "source": [
    "## Load Model"
   ]
  },
  {
   "cell_type": "code",
   "execution_count": 3,
   "metadata": {
    "execution": {
     "iopub.execute_input": "2024-04-10T19:49:15.864023Z",
     "iopub.status.busy": "2024-04-10T19:49:15.863702Z",
     "iopub.status.idle": "2024-04-10T19:49:20.198112Z",
     "shell.execute_reply": "2024-04-10T19:49:20.197270Z"
    }
   },
   "outputs": [
    {
     "name": "stdout",
     "output_type": "stream",
     "text": [
      "SentenceTransformer(\n",
      "  (0): Transformer({'max_seq_length': 512, 'do_lower_case': False}) with Transformer model: BertModel \n",
      "  (1): Pooling({'word_embedding_dimension': 1024, 'pooling_mode_cls_token': True, 'pooling_mode_mean_tokens': False, 'pooling_mode_max_tokens': False, 'pooling_mode_mean_sqrt_len_tokens': False, 'pooling_mode_weightedmean_tokens': False, 'pooling_mode_lasttoken': False, 'include_prompt': True})\n",
      ")\n",
      "cuda\n"
     ]
    }
   ],
   "source": [
    "model = SentenceTransformer(\"mixedbread-ai/mxbai-embed-large-v1\")\n",
    "# Move to GPU if available\n",
    "device = 'cuda' if torch.cuda.is_available() else 'cpu'\n",
    "model = model.to(device)\n",
    "# Print model\n",
    "print(model)\n",
    "# Print device\n",
    "print(device)"
   ]
  },
  {
   "cell_type": "markdown",
   "metadata": {},
   "source": [
    "## Function to Get Sentences and Embeddings from Doc"
   ]
  },
  {
   "cell_type": "code",
   "execution_count": 4,
   "metadata": {
    "execution": {
     "iopub.execute_input": "2024-04-10T19:49:20.201622Z",
     "iopub.status.busy": "2024-04-10T19:49:20.200875Z",
     "iopub.status.idle": "2024-04-10T19:49:20.207342Z",
     "shell.execute_reply": "2024-04-10T19:49:20.206836Z"
    }
   },
   "outputs": [],
   "source": [
    "def get_doc_sentences_embeddings(filename):\n",
    "    '''\n",
    "    Get sentence embeddings from a document.\n",
    "    '''\n",
    "    # Read file\n",
    "    with open('../Text Data/Terms of Service Corpus/text/' + filename, 'r', encoding='utf-8') as f:\n",
    "        doc = f.read()\n",
    "    # Strip all unicode characters\n",
    "    doc = ''.join([char if ord(char) < 128 else ' ' for char in doc])\n",
    "    # Strip lines that do not contain a period, exclamation point, or question mark, and at least one letter\n",
    "    doc = '\\n'.join([line for line in doc.split('\\n') if ('.' in line or '!' in line or '?' in line) and any([char.isalpha() for char in line])])\n",
    "    #print('number of lines in doc:', len(doc.split('\\n')))\n",
    "    # Parse company name by taking the first part of filename before underscore\n",
    "    company_name = filename.split('_')[0]\n",
    "    # Sentence tokenize the document\n",
    "    sentences = nltk.sent_tokenize(doc)\n",
    "    # Append company name to the beginning of each sentence\n",
    "    # Format example: \"Apple: We take your privacy seriously.\"\n",
    "    sentences = [company_name + ': ' + sentence for sentence in sentences]\n",
    "    # Encode sentences and return\n",
    "    embeddings = model.encode(sentences)\n",
    "    return sentences, embeddings\n",
    "    "
   ]
  },
  {
   "cell_type": "markdown",
   "metadata": {},
   "source": [
    "## Get List of files"
   ]
  },
  {
   "cell_type": "code",
   "execution_count": 5,
   "metadata": {
    "execution": {
     "iopub.execute_input": "2024-04-10T19:49:20.209940Z",
     "iopub.status.busy": "2024-04-10T19:49:20.209641Z",
     "iopub.status.idle": "2024-04-10T19:49:21.218304Z",
     "shell.execute_reply": "2024-04-10T19:49:21.217541Z"
    }
   },
   "outputs": [
    {
     "name": "stdout",
     "output_type": "stream",
     "text": [
      "length of filenames: 1623\n",
      "['1Password_AgileBitsPrivacyPolicy.txt', '1Password_TermsofService.txt', '23andMe_CenforceProfessional.txt', '23andMe_CookiePolicy.txt', '23andMe_PrivacyPolicy.txt']\n"
     ]
    }
   ],
   "source": [
    "filenames = pd.read_excel('selected_list_of_files.xlsx')['filename'].tolist()\n",
    "print('length of filenames:', len(filenames))\n",
    "print(filenames[:5])"
   ]
  },
  {
   "cell_type": "markdown",
   "metadata": {},
   "source": [
    "## Clear pre-existing folder"
   ]
  },
  {
   "cell_type": "code",
   "execution_count": 6,
   "metadata": {
    "execution": {
     "iopub.execute_input": "2024-04-10T19:49:21.221121Z",
     "iopub.status.busy": "2024-04-10T19:49:21.220794Z",
     "iopub.status.idle": "2024-04-10T19:49:21.226783Z",
     "shell.execute_reply": "2024-04-10T19:49:21.226287Z"
    }
   },
   "outputs": [],
   "source": [
    "# Delete files in '../Text Data Embeddings' directory\n",
    "for file in os.listdir('../Text Data Embeddings'):\n",
    "    os.remove('../Text Data Embeddings/' + file)"
   ]
  },
  {
   "cell_type": "markdown",
   "metadata": {},
   "source": [
    "## Encode Documents and Create Parquet Files"
   ]
  },
  {
   "cell_type": "code",
   "execution_count": 7,
   "metadata": {
    "execution": {
     "iopub.execute_input": "2024-04-10T19:49:21.229296Z",
     "iopub.status.busy": "2024-04-10T19:49:21.229005Z",
     "iopub.status.idle": "2024-04-10T19:49:21.234469Z",
     "shell.execute_reply": "2024-04-10T19:49:21.233837Z"
    }
   },
   "outputs": [],
   "source": [
    "def create_parquet(filename):\n",
    "    '''\n",
    "    Save parquet file of sentences and embeddings for a document.\n",
    "    '''\n",
    "    # Get sentences and embeddings\n",
    "    # Start timer\n",
    "    #start = time.time()\n",
    "    sentences, embeddings = get_doc_sentences_embeddings(filename)\n",
    "    # End timer\n",
    "    #end = time.time()\n",
    "    #print('Time to get embeddings:', end - start)\n",
    "    # New timer\n",
    "    #start = time.time()\n",
    "    # Create dataframe\n",
    "    df = pd.DataFrame()\n",
    "    # Sentences are a column\n",
    "    df['sentence'] = sentences\n",
    "    # Add embeddings array on to the dataframe\n",
    "    df = pd.concat([df, pd.DataFrame(embeddings)], axis=1)\n",
    "    # Set column names\n",
    "    column_names = ['sentence'] + [f'embed_element_{i}' for i in range(embeddings.shape[1])]\n",
    "    df.columns = column_names\n",
    "    # add filename column\n",
    "    df['filename'] = filename # note parquet compression handles this constant value well\n",
    "    # Copy dataframe 40 times to test sharding\n",
    "    #df = pd.concat([df]*40, ignore_index=True)\n",
    "    # If more than 1000 rows, split into 1000 row chunks\n",
    "    if df.shape[0] > 1000:\n",
    "        for i in range(0, df.shape[0], 1000):\n",
    "            df.iloc[i:i+1000].to_parquet('../Text Data Embeddings/' + filename.split('.')[0] + f'_{i // 1000}.parquet')\n",
    "    else:\n",
    "        # Save to parquet\n",
    "        df.to_parquet('../Text Data Embeddings/' + filename.split('.')[0] + '.parquet')\n",
    "    # End timer\n",
    "    #end = time.time()\n",
    "    #print('Time to save parquet:', end - start)"
   ]
  },
  {
   "cell_type": "code",
   "execution_count": 8,
   "metadata": {
    "execution": {
     "iopub.execute_input": "2024-04-10T19:49:21.236962Z",
     "iopub.status.busy": "2024-04-10T19:49:21.236665Z",
     "iopub.status.idle": "2024-04-10T20:09:43.537426Z",
     "shell.execute_reply": "2024-04-10T20:09:43.537015Z"
    }
   },
   "outputs": [],
   "source": [
    "# If this is a sample run, run for one filename + the largest file, otherwise, run for all\n",
    "if sample_run:\n",
    "    create_parquet(filenames[0])\n",
    "    #create_parquet('Honeywell_CookieNotice.txt')\n",
    "else:\n",
    "    errored_files = []\n",
    "    for filename in filenames:\n",
    "        try:\n",
    "            create_parquet(filename)\n",
    "        except:\n",
    "            errored_files.append(filename)\n",
    "            continue\n",
    "    # save to disk if errored files\n",
    "    if len(errored_files) > 0:\n",
    "        with open('errored_files.txt', 'w') as f:\n",
    "            for file in errored_files:\n",
    "                f.write(file + '\\n')\n",
    "    else:\n",
    "        print('No errors in creating parquet files.')"
   ]
  },
  {
   "cell_type": "code",
   "execution_count": 9,
   "metadata": {
    "execution": {
     "iopub.execute_input": "2024-04-10T20:09:43.539661Z",
     "iopub.status.busy": "2024-04-10T20:09:43.539463Z",
     "iopub.status.idle": "2024-04-10T20:09:43.635357Z",
     "shell.execute_reply": "2024-04-10T20:09:43.634828Z"
    }
   },
   "outputs": [
    {
     "data": {
      "text/html": [
       "<div>\n",
       "<style scoped>\n",
       "    .dataframe tbody tr th:only-of-type {\n",
       "        vertical-align: middle;\n",
       "    }\n",
       "\n",
       "    .dataframe tbody tr th {\n",
       "        vertical-align: top;\n",
       "    }\n",
       "\n",
       "    .dataframe thead th {\n",
       "        text-align: right;\n",
       "    }\n",
       "</style>\n",
       "<table border=\"1\" class=\"dataframe\">\n",
       "  <thead>\n",
       "    <tr style=\"text-align: right;\">\n",
       "      <th></th>\n",
       "      <th>sentence</th>\n",
       "      <th>embed_element_0</th>\n",
       "      <th>embed_element_1</th>\n",
       "      <th>embed_element_2</th>\n",
       "      <th>embed_element_3</th>\n",
       "      <th>embed_element_4</th>\n",
       "      <th>embed_element_5</th>\n",
       "      <th>embed_element_6</th>\n",
       "      <th>embed_element_7</th>\n",
       "      <th>embed_element_8</th>\n",
       "      <th>...</th>\n",
       "      <th>embed_element_1015</th>\n",
       "      <th>embed_element_1016</th>\n",
       "      <th>embed_element_1017</th>\n",
       "      <th>embed_element_1018</th>\n",
       "      <th>embed_element_1019</th>\n",
       "      <th>embed_element_1020</th>\n",
       "      <th>embed_element_1021</th>\n",
       "      <th>embed_element_1022</th>\n",
       "      <th>embed_element_1023</th>\n",
       "      <th>filename</th>\n",
       "    </tr>\n",
       "  </thead>\n",
       "  <tbody>\n",
       "    <tr>\n",
       "      <th>0</th>\n",
       "      <td>1Password:         Last updated: July 3, 2019Y...</td>\n",
       "      <td>0.157638</td>\n",
       "      <td>0.035604</td>\n",
       "      <td>-0.132186</td>\n",
       "      <td>0.116704</td>\n",
       "      <td>0.202227</td>\n",
       "      <td>0.174079</td>\n",
       "      <td>0.023847</td>\n",
       "      <td>0.144862</td>\n",
       "      <td>0.061449</td>\n",
       "      <td>...</td>\n",
       "      <td>-0.349894</td>\n",
       "      <td>0.019318</td>\n",
       "      <td>0.302244</td>\n",
       "      <td>0.805569</td>\n",
       "      <td>0.556341</td>\n",
       "      <td>0.426748</td>\n",
       "      <td>-0.556337</td>\n",
       "      <td>-0.527679</td>\n",
       "      <td>0.086249</td>\n",
       "      <td>1Password_AgileBitsPrivacyPolicy.txt</td>\n",
       "    </tr>\n",
       "    <tr>\n",
       "      <th>1</th>\n",
       "      <td>1Password: This privacy policy explains the pe...</td>\n",
       "      <td>-0.513479</td>\n",
       "      <td>-0.104573</td>\n",
       "      <td>-0.187250</td>\n",
       "      <td>-0.235499</td>\n",
       "      <td>0.347940</td>\n",
       "      <td>0.123198</td>\n",
       "      <td>0.182524</td>\n",
       "      <td>-0.426857</td>\n",
       "      <td>0.014124</td>\n",
       "      <td>...</td>\n",
       "      <td>-1.274716</td>\n",
       "      <td>-0.301280</td>\n",
       "      <td>0.124505</td>\n",
       "      <td>0.074597</td>\n",
       "      <td>0.331940</td>\n",
       "      <td>-0.104734</td>\n",
       "      <td>-0.752499</td>\n",
       "      <td>0.130692</td>\n",
       "      <td>0.443632</td>\n",
       "      <td>1Password_AgileBitsPrivacyPolicy.txt</td>\n",
       "    </tr>\n",
       "    <tr>\n",
       "      <th>2</th>\n",
       "      <td>1Password: This privacy policy further describ...</td>\n",
       "      <td>-0.383306</td>\n",
       "      <td>-0.126484</td>\n",
       "      <td>-0.179484</td>\n",
       "      <td>-0.245022</td>\n",
       "      <td>0.331592</td>\n",
       "      <td>0.367131</td>\n",
       "      <td>-0.024387</td>\n",
       "      <td>-0.076363</td>\n",
       "      <td>0.560197</td>\n",
       "      <td>...</td>\n",
       "      <td>-0.779433</td>\n",
       "      <td>-0.310576</td>\n",
       "      <td>0.222113</td>\n",
       "      <td>0.243597</td>\n",
       "      <td>0.913351</td>\n",
       "      <td>0.318467</td>\n",
       "      <td>-0.656026</td>\n",
       "      <td>-0.199383</td>\n",
       "      <td>0.536777</td>\n",
       "      <td>1Password_AgileBitsPrivacyPolicy.txt</td>\n",
       "    </tr>\n",
       "    <tr>\n",
       "      <th>3</th>\n",
       "      <td>1Password: This policy applies to the interact...</td>\n",
       "      <td>-0.094262</td>\n",
       "      <td>0.144847</td>\n",
       "      <td>-0.408610</td>\n",
       "      <td>-0.216016</td>\n",
       "      <td>0.235680</td>\n",
       "      <td>0.081539</td>\n",
       "      <td>0.139658</td>\n",
       "      <td>-0.325716</td>\n",
       "      <td>-0.317717</td>\n",
       "      <td>...</td>\n",
       "      <td>-1.312816</td>\n",
       "      <td>-0.222076</td>\n",
       "      <td>0.094938</td>\n",
       "      <td>-0.063733</td>\n",
       "      <td>0.473961</td>\n",
       "      <td>0.280864</td>\n",
       "      <td>-0.033980</td>\n",
       "      <td>-0.089776</td>\n",
       "      <td>0.264955</td>\n",
       "      <td>1Password_AgileBitsPrivacyPolicy.txt</td>\n",
       "    </tr>\n",
       "    <tr>\n",
       "      <th>4</th>\n",
       "      <td>1Password: After all, it is impossible to lose...</td>\n",
       "      <td>-0.313960</td>\n",
       "      <td>0.025345</td>\n",
       "      <td>0.037957</td>\n",
       "      <td>0.217967</td>\n",
       "      <td>0.260413</td>\n",
       "      <td>0.109066</td>\n",
       "      <td>-0.167638</td>\n",
       "      <td>-0.239258</td>\n",
       "      <td>0.489414</td>\n",
       "      <td>...</td>\n",
       "      <td>-0.315917</td>\n",
       "      <td>-0.435738</td>\n",
       "      <td>0.344863</td>\n",
       "      <td>0.264083</td>\n",
       "      <td>0.918006</td>\n",
       "      <td>0.565772</td>\n",
       "      <td>0.225252</td>\n",
       "      <td>-0.190404</td>\n",
       "      <td>0.488587</td>\n",
       "      <td>1Password_AgileBitsPrivacyPolicy.txt</td>\n",
       "    </tr>\n",
       "  </tbody>\n",
       "</table>\n",
       "<p>5 rows × 1026 columns</p>\n",
       "</div>"
      ],
      "text/plain": [
       "                                            sentence  embed_element_0  \\\n",
       "0  1Password:         Last updated: July 3, 2019Y...         0.157638   \n",
       "1  1Password: This privacy policy explains the pe...        -0.513479   \n",
       "2  1Password: This privacy policy further describ...        -0.383306   \n",
       "3  1Password: This policy applies to the interact...        -0.094262   \n",
       "4  1Password: After all, it is impossible to lose...        -0.313960   \n",
       "\n",
       "   embed_element_1  embed_element_2  embed_element_3  embed_element_4  \\\n",
       "0         0.035604        -0.132186         0.116704         0.202227   \n",
       "1        -0.104573        -0.187250        -0.235499         0.347940   \n",
       "2        -0.126484        -0.179484        -0.245022         0.331592   \n",
       "3         0.144847        -0.408610        -0.216016         0.235680   \n",
       "4         0.025345         0.037957         0.217967         0.260413   \n",
       "\n",
       "   embed_element_5  embed_element_6  embed_element_7  embed_element_8  ...  \\\n",
       "0         0.174079         0.023847         0.144862         0.061449  ...   \n",
       "1         0.123198         0.182524        -0.426857         0.014124  ...   \n",
       "2         0.367131        -0.024387        -0.076363         0.560197  ...   \n",
       "3         0.081539         0.139658        -0.325716        -0.317717  ...   \n",
       "4         0.109066        -0.167638        -0.239258         0.489414  ...   \n",
       "\n",
       "   embed_element_1015  embed_element_1016  embed_element_1017  \\\n",
       "0           -0.349894            0.019318            0.302244   \n",
       "1           -1.274716           -0.301280            0.124505   \n",
       "2           -0.779433           -0.310576            0.222113   \n",
       "3           -1.312816           -0.222076            0.094938   \n",
       "4           -0.315917           -0.435738            0.344863   \n",
       "\n",
       "   embed_element_1018  embed_element_1019  embed_element_1020  \\\n",
       "0            0.805569            0.556341            0.426748   \n",
       "1            0.074597            0.331940           -0.104734   \n",
       "2            0.243597            0.913351            0.318467   \n",
       "3           -0.063733            0.473961            0.280864   \n",
       "4            0.264083            0.918006            0.565772   \n",
       "\n",
       "   embed_element_1021  embed_element_1022  embed_element_1023  \\\n",
       "0           -0.556337           -0.527679            0.086249   \n",
       "1           -0.752499            0.130692            0.443632   \n",
       "2           -0.656026           -0.199383            0.536777   \n",
       "3           -0.033980           -0.089776            0.264955   \n",
       "4            0.225252           -0.190404            0.488587   \n",
       "\n",
       "                               filename  \n",
       "0  1Password_AgileBitsPrivacyPolicy.txt  \n",
       "1  1Password_AgileBitsPrivacyPolicy.txt  \n",
       "2  1Password_AgileBitsPrivacyPolicy.txt  \n",
       "3  1Password_AgileBitsPrivacyPolicy.txt  \n",
       "4  1Password_AgileBitsPrivacyPolicy.txt  \n",
       "\n",
       "[5 rows x 1026 columns]"
      ]
     },
     "execution_count": 9,
     "metadata": {},
     "output_type": "execute_result"
    }
   ],
   "source": [
    "# Load a file to check\n",
    "test_df = pd.read_parquet('../Text Data Embeddings/' + filenames[0].split('.')[0] + '.parquet')\n",
    "test_df.head()"
   ]
  },
  {
   "cell_type": "code",
   "execution_count": 10,
   "metadata": {
    "execution": {
     "iopub.execute_input": "2024-04-10T20:09:43.637613Z",
     "iopub.status.busy": "2024-04-10T20:09:43.637168Z",
     "iopub.status.idle": "2024-04-10T20:09:43.641148Z",
     "shell.execute_reply": "2024-04-10T20:09:43.640767Z"
    }
   },
   "outputs": [
    {
     "name": "stdout",
     "output_type": "stream",
     "text": [
      "1Password:         Last updated: July 3, 2019Your privacy is important to us.\n",
      "1Password: This privacy policy explains the personal data that AgileBits collects and processes, how it processes data and for what purposes it is collected and processed.\n",
      "1Password: This privacy policy further describes our commitment to preserving the privacy and security of your personal data.\n",
      "1Password: This policy applies to the interactions that AgileBits has with you through your use of AgileBits 1Password products and services.Brief overview of our commitment to privacyAt AgileBits, we believe that the less information we know about you, the better.\n",
      "1Password: After all, it is impossible to lose, misuse, or abuse information we don   t have.\n",
      "1Password: To the extent that we have control over your data or data about you, we see ourselves as custodians of that data on your behalf.\n",
      "1Password: We use your data solely to provide you with services in which you enroll.\n",
      "1Password: Our business is providing 1Password products and services to you, the customer.\n",
      "1Password: We have no desire or interest to use or transfer the limited data we acquire for any other purposes.Who We AreAgileBits is a Canadian company located at Suite 303, 49 Spadina Ave, Toronto, Ontario, M5V 2J1, Canada.\n",
      "1Password: AgileBits complies with Canadian privacy laws.\n",
      "1Password: We are fully compliant with the Canadian privacy laws and the GDPR.\n",
      "1Password: The European Union (   EU   ) recognizes Canada as a destination country with    adequate level of protection    for data privacy of individuals.\n",
      "1Password: We are not U.S.- EU Privacy Shield certified since we are a Canadian company.Who are YouUnless otherwise noted, we refer you, the Customer, as an owner or organizer of an individual, family, team, or business account.\n",
      "1Password: If you represent an organization, such as a business or educational institution, that utilizes 1Password products or services through Enterprise accounts or if you are an end user of 1Password product or a 1Password account provided by your organization, please see the 1Password Enterprise Accounts section of this privacy statement to learn how we process your data.Non-OwnersIf you are a non-owner member of a team, business, or family account, your use of 1Password may be subject to your organization   s privacy policy or practices, if any.\n",
      "1Password: Non-owner members of an account transfer some of the rights described here to the account owners.Personal Data We Collect and How We Use your Personal DataWe do not collect or obtain data from third parties.\n",
      "1Password: We collect some data from you, in order to provide you with our 1Password products and associated services.\n",
      "1Password: You provide some data directly, such as when you create a 1Password account, when you register for a 1Password event or a webinar, or contact us for support.\n",
      "1Password: Such data is limited to your email address only.\n",
      "1Password: We get some limited data from your use of the 1Password products and services.\n",
      "1Password: Such data includes your IP address, and the make and model of your device through which you access or use 1Password products or services.\n",
      "1Password: We use your personal data to provide you with services associated with the use of 1Password account and to provide you with a rich customer experience through our customer support.\n",
      "1Password: In particular, we use your data to provide 1Password services, which includes updating, securing and troubleshooting, and providing support.\n",
      "1Password: We process two kinds of user data to deliver our services: (i) Secure Data and (ii) Service Data.\n",
      "1Password: Both are treated securely with respect for customer privacy and data confidentiality, but there are important technical and usage differences.\n",
      "1Password: (i) Secure DataSecure Data are the data that we are not capable of decrypting under any circumstance.\n",
      "1Password: It includes all information stored within vaults in 1Password accounts.\n",
      "1Password: These data are encrypted using secure cryptographic keys that exist only in the possession and under the control of our customers.\n",
      "1Password: We have no way of accessing or providing decrypted Secure Data, and we never receive copies of unencrypted Secure Data.\n",
      "1Password: Your Secure Data is your property.\n",
      "1Password: We claim no rights to it beyond those necessary to deliver services to you.\n",
      "1Password: You may add, modify, and delete Secure Data at your discretion.\n",
      "1Password: If you do not have a 1Password account, you cannot provide us with Secure Data.\n",
      "1Password: (ii) Service DataWe inevitably acquire Service Data about your usage of 1Password, your account, and your payments through operating our services.\n",
      "1Password: We retain only enough Service Data to operate and maintain the services.\n",
      "1Password: These data are never used for any other purpose.\n",
      "1Password: Service Data are kept confidential.\n",
      "1Password: It is visible to our staff and includes, but is not limited to, server logs, billing information, client IP addresses, number of vaults and number of items in vaults, company or family name, and email addresses.\n",
      "1Password: Service data includes the name you provide us for your profile and any image that you may upload, at your option and discretion, as part of your profile.\n",
      "1Password: As long as you are using our services, we retain the right to hold and use Service Data to provide our services, troubleshoot problems, analyze the performance and demands on our services, and to provide our payment processors with the information they need to process payments.\n",
      "1Password: (iii) Diagnostic Data (Optional)Diagnostic Data are a category of Service Data which are not automatically collected or required for operation of our services.\n",
      "1Password: In some cases we seek diagnostic reports and other troubleshooting, bug, and crash reports from customers to help identify and solve problems with our products and services.\n",
      "1Password: This information is sent to us only on a case by case basis, or by users who explicitly opt into our beta software programs or who otherwise explicitly choose to provide diagnostic data to us.\n",
      "1Password: Diagnostic Data may contain sensitive information about your devices and operating environment as well as personally identifying information.\n",
      "1Password: Although there may be occasions when we ask for Diagnostic Data to assist you with a problem, you are never obligated to provide it.\n",
      "1Password: Diagnostic data never includes decrypted Secure Data.\n",
      "1Password: We will never ask for your Master Password or Secret Key.Keeping Your Information SafeWe understand and accept our responsibility to protect Service Data and Secure Data.\n",
      "1Password: We use strict access control mechanisms, network isolation, and encryption to ensure that Secure and Service Data is only available to authorized personnel.\n",
      "1Password: Additionally, Secure Data cannot be decrypted even by those who do have access to it.Compliance with the lawsAgileBits fully complies with the Canadian privacy laws and the GDPR.\n",
      "1Password: AgileBits is a Canadian company, we are not U.S.- E.U.\n",
      "1Password: Privacy Shield certified.\n",
      "1Password: If you are affiliated to an organization who provides you with 1Password account through its Enterprise level account then there may be additional requirements for us to meet, based on the contracts with the organization.\n",
      "1Password: For further information, please read below the section 1Password Product or Account provided by your Organization.Data Location and Transfer1Password.eu data are held on servers located within the European Union.\n",
      "1Password: Data originating in the European Union remains within the European Union.\n",
      "1Password: Service Data access is restricted to members of our staff residing in either the EU or Canada.\n",
      "1Password: The European Union recognizes Canada as a destination country with    adequate level of protection    for data privacy of individuals.Customer support systemOur customer support and email services are hosted primarily in the United States.\n",
      "1Password: Any information you choose send us through email or our customer support system may pass through and be stored on a variety of intermediate services.\n",
      "1Password: If you wish, you may encrypt email to us using our PGP public key.Third-Party Data ProcessorsYour Secure and Service data are held by third party data processors, who provide us with hosting and other infrastructure services.\n",
      "1Password: The locations of these are described above.\n",
      "1Password: In many cases (but we cannot promise that this will always be the case) even Service data held by these entities is encrypted with keys held only by us.\n",
      "1Password: Data needed to process payments is collected by our payment processor, Stripe, Inc., which conforms to the U.S.-E.U.\n",
      "1Password: Privacy Shield Framework.\n",
      "1Password: See https://stripe.com/privacy-shield-policyContacting YouWe may use your contact information, that is, the contact email address provided by you, to communicate with you about Service activity, provide support, and send you other information such as product updates and announcements.\n",
      "1Password: You may choose to stop receiving communications from us, except certain important notifications such as billing and account security alerts.Your Responsibilities for Protecting Your DataWhen you create a 1Password account you will receive a Secret Key and will be prompted to create a Master Password.\n",
      "1Password: Your Secret Key is generated on your computer and your Master Password is something you create yourself.\n",
      "1Password: For your protection, you should create a strong and unique Master Password to ensure that it is not easily guessed.\n",
      "1Password: It is extremely important that you understand that anyone with both your Secret Key and Master Password can access your Secure Data.\n",
      "1Password: It is equally important that you keep a copy in a safe place for your own reference, because future access to your Secure Data depends on having access to both your Secret Key and your Master Password.\n",
      "1Password: We will never ask you for your Master Password or your full Secret Key, and you should never send it to us or anyone.\n",
      "1Password: Due to the nature of our design and the sensitivity of the information you entrust to us (even in encrypted form), it may not be possible for us to help you with certain customer service requests unless you are listed as an account owner and are communicating from your verified email address.\n",
      "1Password: In the event that you change your email address, is very important that you update your email on your 1Password account(s) or you may eventually lose access.Data Protection Principles that We Practice(i) Data PortabilityWe want happy customers, not trapped ones.\n",
      "1Password: We will not lock you out of your own data.\n",
      "1Password: However, we are unable to decrypt your Secure Data.\n",
      "1Password: you will need your Master Password and Secret Key to decrypt it.\n",
      "1Password: You may export your 1Password data at any time you wish during the life of your account.\n",
      "1Password: If you discontinue payment, your account will enter a frozen (read-only) state for a period not less than six months during which you may still retrieve and export your data.\n",
      "1Password: Export is limited to your Secure Data.\n",
      "1Password: Vault permissions, the structure of groups of individuals, and other information about the relationship between individuals and data is not guaranteed to be included in export.\n",
      "1Password: (ii) Your Right to Know to What We KnowYou have the right to know what we know about you and to see how that data is handled.\n",
      "1Password: You may request a screenshot of what we can see about you in our back office systems.\n",
      "1Password: However, to protect customer privacy, such requests must be carefully authenticated beyond demonstrating control of the customer   s email address.\n",
      "1Password: (iii) Your Right to Have Your Data ErasedAs we are merely custodians of your data, account owners have the right to instruct us to remove data permanently from our systems.\n",
      "1Password: To ensure that no one   s data is deleted without their consent, you must first delete your account through an authenticated session.\n",
      "1Password: After your account has been deleted, the account owner may contact us and ask for the data to be expunged.\n",
      "1Password: Once the request is authenticated, the data will be removed from our active systems within 72 hours.\n",
      "1Password: Disaster recovery and data availability requirements mean that AgileBits has a legitimate interest in maintaining secure and immutable backups.\n",
      "1Password: Backups are kept for 35 days.\n",
      "1Password: Erasure requests will leave those backups untouched, and we will only remove data from backups if legally compelled to.\n",
      "1Password: (iv) Your right to access and control your personal dataYou can also make choices about collection and use of your data by AgileBits.\n",
      "1Password: You can control your personal data and exercise your data protection rights by contacting AgileBits at the address and information provided below.\n",
      "1Password: You can add, remove, edit, change any data that are in the 1Password vault.\n",
      "1Password: If you are an affiliate of an organization which provides you with the access to 1Password account and services, there may be certain restrictions to the above, based on your affiliate organization   s privacy or other similar policies.\n",
      "1Password: For further details, please review below the section under 1Password Product or Account provided by your Organization.Cookies and TrackingWe do not engage in or support cross-service tracking.\n",
      "1Password: We do set and use cookies (small text files placed on your device) on our own domains and subdomains to store settings that assist with identifying your account for sign-in.\n",
      "1Password: We also use third party analytics packages for our public pages that may set cookies on your computer.\n",
      "1Password: These are limited to our domains, and do not involve cross-service tracking.\n",
      "1Password: You may disable cookies in your browser and continue to use our services without impact.\n",
      "1Password: Client applications, including web browsers, will store information about your account to assist with future sign-ins and keep some information available to you when you are not signed in.\n",
      "1Password: Users may remove all such information from their devices, but doing so will require that they provide complete information (account details, Master Password, and Secret Key) on subsequent sign-ins.Consent for Underage EnrollmentThose under the age of 16 may not use the services without the consent or authorization of their parent or legal custodian.\n",
      "1Password: Family account organizers and team owners are responsible for that authorization when they add someone under the age of 16 to an account.DisclosureWe will comply with applicable laws and the contracts with our customers to provide Service Data and encrypted Secure Data to law enforcement agencies.\n",
      "1Password: If permitted, we will notify you of such a request and whether or not we have complied.\n",
      "1Password: Your Secure Data remains encrypted with keys which we do not possess, and so we can only hand over Secure Data in encrypted form.\n",
      "1Password: Some Service Data is made available to family account organizers and team owners.\n",
      "1Password: In some limited circumstances we may provide some information to non-owner members of these accounts.\n",
      "1Password: Account owners will be informed in these circumstances.Breach NotificationIn an event of a breach, we recognize our responsibility to our customers and to the public to disclose the nature of the risk and provide a transparent account of the events without undue delay.\n",
      "1Password: We follow applicable requirements under the laws, that is, the Canadian data privacy breach notification requirements and the requirements related to data breach notification under the GDPR.1Password Product or Account provided by your OrganizationWhen we offer 1Password products and services to you through your organization, we continue to adhere to the Canadian privacy laws and the data protection requirements under the GDPR.\n",
      "1Password: We follow the Canadian data privacy laws and the GDPR, in addition to any requirements under the contracts with your organization, to ensure that your data are located, and if applicable, appropriately transferred.\n",
      "1Password: If you use a 1Password product or 1Password account to access our products and services, and such 1Password product or 1Password account was provided by the organization that you are affiliated with, that organization is the controller or the administrator of your 1Password product or 1Password account.\n",
      "1Password: Your organization can access and process your data associated with your 1Password product or account.\n",
      "1Password: If your organization provides you with access to 1Password product or 1Password account, your use of the product or account is subject to your organisation   s policies, if any.\n",
      "1Password: You should direct your privacy inquiries, including any requests to exercise your data protection rights, to your organization   s administrator.\n",
      "1Password: We are not responsible for the privacy or security practices of your organization, which may differ from those set out in this privacy policy.\n",
      "1Password: If you lose access to the organization that you are affiliated with (for example, if you change your employment), you may lose access to 1Password product or 1Password account and the content or data associated with such product or account.Updates to our Privacy PolicyAt our discretion, we may make changes to this Policy and note the date of the last revision.\n",
      "1Password: You should check here frequently if you need to know of updates to our Privacy Policy.\n",
      "1Password: We maintain the right to send you annoying email informing you of substantive changes.\n",
      "1Password: Previous versions will be made available from this page.Contact UsIf you have any questions about this Policy, you can contact our support team or write us by mail at:\n",
      "Supervisory AuthorityIf you have concerns or complaints about this policy or practices with regard to that you do not feel you can resolve through contacting us, you should bring those concerns to your local regulatory authority.\n",
      "1Password: For residents of the European Union, our primary Supervisory Authority is the Berlin Commissioner for Data Protection and Information Freedom.\n",
      "1Password: Friedrichstr.\n",
      "1Password: 10969 Berlin, Germany Tel.\n",
      "1Password: : +49 30 13889-0\n",
      "E-Mail: mailbox@datenschutz-berlin.de\n",
      "https://www.datenschutz-berlin.de/\n",
      "     Thanks for reading!\n",
      "1Password: Glossary\n",
      "AgileBits Inc., a Canadian company located at Suite 303, 49 Spadina Ave, Toronto, Ontario, M5V 2J1, Canada.\n",
      "1Password: Owners and operators of 1Password.\n",
      "1Password: As Data Processors, we include AgileBits    employees and subcontractors appointed by AgileBits.\n",
      "1Password: Data Processor as defined by the GDPR.\n",
      "1Password: We and the subprocessors (hosting services, payment processors) we appoint are the Data Processors.\n",
      "1Password: A user secret that, along with the user   s Secret Key, is necessary to decrypt Secure Data.\n",
      "1Password: Decryption transforms encrypted data back to its original form.\n",
      "1Password: It cannot be performed without the appropriate cryptographic key.\n",
      "1Password: Encryption transforms usable data into a form that conceals all information contained in the original data.\n",
      "1Password: This data transformation uses a cryptographic key.\n",
      "1Password: Business and Family accounts, which allow for multiple members, will have Owners or Organizers.\n",
      "1Password: Owners and Organizers have some rights over the data belonging to members of the Business or Family.\n",
      "1Password: As defined under the Canadian privacy laws and the GDPR.\n",
      "1Password: A user secret typically stored on the user   s device that is necessary, along with the user   s Master Password to decrypt Secure Data.\n",
      "1Password: Anyone other than us who we have appointed to process customer data.\n",
      "1Password: Subprocessors can see no more data than we can see.\n",
      "1Password: Examples include our data hosting providers and payment processors.\n",
      "1Password: A local regulator under the GDPR which has the job of seeing that we protect your data properly.\n",
      "1Password: Data encrypted with keys derived from the user   s Master Password and Secret Key.\n",
      "1Password: This data cannot be decrypted by AgileBits.\n",
      "1Password: Data about a user account, which is available to AgileBits.\n",
      "1Password: You are the Data Subject as defined in the GDPR.\n",
      "1Password: In general, we are addressing    you    as the Owner or Organizer of an Individual, Family, Team, or Business account.\n",
      "1Password: Added clarifying language related to GDPR.\n",
      "1Password: We changed our office address.\n",
      "1Password: List GDPR Supervisory Authority.\n",
      "1Password: Typographical error corrected.\n",
      "1Password: No change in meaning.\n",
      "1Password: More GDPR terms in the glossary.\n",
      "1Password: We clarified how we help you keep your data when we part ways.\n",
      "1Password: We also expanded on how your Secure Data is handled on our end.\n"
     ]
    }
   ],
   "source": [
    "# Print all values of sentence column\n",
    "for value in test_df['sentence'].values:\n",
    "    print(value)"
   ]
  },
  {
   "cell_type": "code",
   "execution_count": 11,
   "metadata": {
    "execution": {
     "iopub.execute_input": "2024-04-10T20:09:43.642830Z",
     "iopub.status.busy": "2024-04-10T20:09:43.642632Z",
     "iopub.status.idle": "2024-04-10T20:09:43.645005Z",
     "shell.execute_reply": "2024-04-10T20:09:43.644642Z"
    }
   },
   "outputs": [],
   "source": [
    "# Load Honeywell file to check\n",
    "#test_df = pd.read_parquet('../Text Data Embeddings/Honeywell_CookieNotice.parquet')\n",
    "#test_df.head()"
   ]
  }
 ],
 "metadata": {
  "kernelspec": {
   "display_name": "data_engineering_project",
   "language": "python",
   "name": "python3"
  },
  "language_info": {
   "codemirror_mode": {
    "name": "ipython",
    "version": 3
   },
   "file_extension": ".py",
   "mimetype": "text/x-python",
   "name": "python",
   "nbconvert_exporter": "python",
   "pygments_lexer": "ipython3",
   "version": "3.12.2"
  }
 },
 "nbformat": 4,
 "nbformat_minor": 2
}
