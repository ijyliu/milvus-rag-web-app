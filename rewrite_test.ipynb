{
 "cells": [
  {
   "cell_type": "code",
   "execution_count": 1,
   "id": "7edf1b4c",
   "metadata": {},
   "outputs": [],
   "source": [
    "# Add App/RAG_Functions to path\n",
    "from App.RAG_Functions import *"
   ]
  },
  {
   "cell_type": "code",
   "execution_count": 2,
   "id": "24e0369b",
   "metadata": {},
   "outputs": [],
   "source": [
    "conversation_history = [\n",
    "    {\"role\": \"system\", \"content\": \"You are an expert assistant that converses with users concerning online terms of service documents. You are able to draw on context of specific sentences retrieved from these documents in your responses. You may disregard some or all of the context if it is not helpful. Please note the user does provide you with the context or know what it says - it has just been attached to their query.\"},\n",
    "    {\"role\": \"user\", \"content\": \"What does Apple do to protect my privacy on iCloud?\"},\n",
    "    {\"role\": \"assistant\", \"content\": '''\n",
    "        Okay, let's break down what Apple does to protect your privacy on iCloud. Based on the provided text, here’s a summary of their key practices:\n",
    "\n",
    "        Apple employs several measures to protect your privacy on iCloud:\n",
    "\n",
    "        End-to-End Encryption: They use this to protect sensitive information – meaning only you have the key to decrypt your data.\n",
    "        Account Security: They’re committed to safeguarding your account itself.\n",
    "        Data Security: They prioritize data security across all their systems.\n",
    "        Responsible Data Handling: Apple believes strong privacy is linked to strong security.\n",
    "        Essentially, Apple uses a multi-layered approach to minimize the risk of data breaches and unauthorized access.\n",
    "\n",
    "        Do you want me to elaborate on any of these points, or perhaps answer a follow-up question about their privacy practices? For example, would you like me to:\n",
    "\n",
    "        Explain end-to-end encryption in more detail?\n",
    "        Discuss how they handle account security?\n",
    "     '''\n",
    "     }\n",
    "]\n",
    "input_text = \"Do they delete my data after a certain period of inactivity?\"\n",
    "chat_model_url = \"http://host.docker.internal:3000\""
   ]
  },
  {
   "cell_type": "code",
   "execution_count": 3,
   "id": "256b3a68",
   "metadata": {},
   "outputs": [],
   "source": [
    "response, rewrite_prompt = rewrite_user_input(conversation_history, input_text, chat_model_url)"
   ]
  },
  {
   "cell_type": "code",
   "execution_count": 4,
   "id": "c8014e6c",
   "metadata": {},
   "outputs": [
    {
     "name": "stdout",
     "output_type": "stream",
     "text": [
      "Do they delete my data after a certain period of inactivity?\n"
     ]
    }
   ],
   "source": [
    "print(response)"
   ]
  },
  {
   "cell_type": "code",
   "execution_count": 5,
   "id": "eaf69ccc",
   "metadata": {},
   "outputs": [
    {
     "name": "stdout",
     "output_type": "stream",
     "text": [
      "\n",
      "    Your task is to rewrite user input to be more suitable for an embedding model. The rewritten input should be self contained and incorporate information from prior user messages as necessary. For example, if no company or service name or question topic is specified in the user input, you should add that information based on the prior user messages. However, take care to preserve the meaning of the original input. Your rewritten input should be only one sentence or question.\n",
      "\n",
      "    EXAMPLES:\n",
      "\n",
      "    Prior user messages: user: What does Apple do to protect my privacy on iCloud?\n",
      "    \n",
      "    User input to rewrite: Do they share my data with third parties?\n",
      "    \n",
      "    Rewritten input: Does Apple share my data with third parties?\n",
      "\n",
      "    Prior user messages: \n",
      "\n",
      "    User input to rewrite: What is the best way to protect my data on iCloud?\n",
      "\n",
      "    Rewritten input: What is the best way to protect my data on Apple's iCloud?\n",
      "\n",
      "    Prior user messages: user: What am I allowed to post on Facebook?\n",
      "user: I'm interested in what kinds of videos I'm allowed to post on Facebook.\n",
      "\n",
      "    User input to rewrite: Clips from movies.\n",
      "\n",
      "    Rewritten input: Can I post clips from movies on Facebook?\n",
      "\n",
      "    Prior user messages: user: Are disputes concerning Amazon kindle subject to arbitration?\n",
      "\n",
      "    User input to rewrite: What about for Netflix?\n",
      "\n",
      "    Rewritten input: Are disputes concerning Netflix subject to arbitration?\n",
      "    \n",
      "    TASK:\n",
      "\n",
      "    Prior user messages: user: What does Apple do to protect my privacy on iCloud?\n",
      "    \n",
      "    User input to rewrite: Do they delete my data after a certain period of inactivity?\n",
      "    \n",
      "    Rewritten input: \n"
     ]
    }
   ],
   "source": [
    "print(rewrite_prompt)"
   ]
  },
  {
   "cell_type": "markdown",
   "id": "2283ca8a",
   "metadata": {},
   "source": [
    "## Stringifying conversation history"
   ]
  },
  {
   "cell_type": "code",
   "execution_count": 6,
   "id": "23d2b517",
   "metadata": {},
   "outputs": [
    {
     "name": "stdout",
     "output_type": "stream",
     "text": [
      "system: You are an expert assistant that converses with users concerning online terms of service documents. You are able to draw on context of specific sentences retrieved from these documents in your responses. You may disregard some or all of the context if it is not helpful. Please note the user does provide you with the context or know what it says - it has just been attached to their query.\n",
      "user: What does Apple do to protect my privacy on iCloud?\n",
      "assistant: Okay, let's break down what Apple does to protect your privacy on iCloud. Based on the provided text, here’s a summary of their key practices: Apple employs several measures to protect your privacy on iCloud: End-to-End Encryption: They use this to protect sensitive information – meaning only you have the key to decrypt your data. Account Security: They’re committed to safeguarding your account itself. Data Security: They prioritize data security across all their systems. Responsible Data Handling: Apple believes strong privacy is linked to strong security. Essentially, Apple uses a multi-layered approach to minimize the risk of data breaches and unauthorized access. Do you want me to elaborate on any of these points, or perhaps answer a follow-up question about their privacy practices? For example, would you like me to: Explain end-to-end encryption in more detail? Discuss how they handle account security?\n"
     ]
    }
   ],
   "source": [
    "# Get conversation history in a string format\n",
    "conversation_history_str = \"\\n\".join(\n",
    "    [f\"{entry['role']}: {\" \".join(entry['content'].split())}\" for entry in conversation_history]\n",
    ")\n",
    "print(conversation_history_str)"
   ]
  },
  {
   "cell_type": "markdown",
   "id": "f8e7f5da",
   "metadata": {},
   "source": [
    "# More tests"
   ]
  },
  {
   "cell_type": "code",
   "execution_count": 7,
   "id": "5e32b07c",
   "metadata": {},
   "outputs": [
    {
     "name": "stdout",
     "output_type": "stream",
     "text": [
      "\n",
      "    Your task is to rewrite user input to be more suitable for an embedding model. The rewritten input should be self contained and incorporate information from prior user messages as necessary. For example, if no company or service name or question topic is specified in the user input, you should add that information based on the prior user messages. However, take care to preserve the meaning of the original input. Your rewritten input should be only one sentence or question.\n",
      "\n",
      "    EXAMPLES:\n",
      "\n",
      "    Prior user messages: user: What does Apple do to protect my privacy on iCloud?\n",
      "    \n",
      "    User input to rewrite: Do they share my data with third parties?\n",
      "    \n",
      "    Rewritten input: Does Apple share my data with third parties?\n",
      "\n",
      "    Prior user messages: \n",
      "\n",
      "    User input to rewrite: What is the best way to protect my data on iCloud?\n",
      "\n",
      "    Rewritten input: What is the best way to protect my data on Apple's iCloud?\n",
      "\n",
      "    Prior user messages: user: What am I allowed to post on Facebook?\n",
      "user: I'm interested in what kinds of videos I'm allowed to post on Facebook.\n",
      "\n",
      "    User input to rewrite: Clips from movies.\n",
      "\n",
      "    Rewritten input: Can I post clips from movies on Facebook?\n",
      "\n",
      "    Prior user messages: user: Are disputes concerning Amazon kindle subject to arbitration?\n",
      "\n",
      "    User input to rewrite: What about for Netflix?\n",
      "\n",
      "    Rewritten input: Are disputes concerning Netflix subject to arbitration?\n",
      "    \n",
      "    TASK:\n",
      "\n",
      "    Prior user messages: user: What does Apple do to protect my privacy on iCloud?\n",
      "    \n",
      "    User input to rewrite: What about Google?\n",
      "    \n",
      "    Rewritten input: What does Google do to protect my privacy on iCloud?\n"
     ]
    }
   ],
   "source": [
    "response, rewrite_prompt = rewrite_user_input(conversation_history, \"What about Google?\", chat_model_url)\n",
    "print(rewrite_prompt + response)"
   ]
  },
  {
   "cell_type": "code",
   "execution_count": 8,
   "id": "c5c576ed",
   "metadata": {},
   "outputs": [
    {
     "name": "stdout",
     "output_type": "stream",
     "text": [
      "\n",
      "    Your task is to rewrite user input to be more suitable for an embedding model. The rewritten input should be self contained and incorporate information from prior user messages as necessary. For example, if no company or service name or question topic is specified in the user input, you should add that information based on the prior user messages. However, take care to preserve the meaning of the original input. Your rewritten input should be only one sentence or question.\n",
      "\n",
      "    EXAMPLES:\n",
      "\n",
      "    Prior user messages: user: What does Apple do to protect my privacy on iCloud?\n",
      "    \n",
      "    User input to rewrite: Do they share my data with third parties?\n",
      "    \n",
      "    Rewritten input: Does Apple share my data with third parties?\n",
      "\n",
      "    Prior user messages: \n",
      "\n",
      "    User input to rewrite: What is the best way to protect my data on iCloud?\n",
      "\n",
      "    Rewritten input: What is the best way to protect my data on Apple's iCloud?\n",
      "\n",
      "    Prior user messages: user: What am I allowed to post on Facebook?\n",
      "user: I'm interested in what kinds of videos I'm allowed to post on Facebook.\n",
      "\n",
      "    User input to rewrite: Clips from movies.\n",
      "\n",
      "    Rewritten input: Can I post clips from movies on Facebook?\n",
      "\n",
      "    Prior user messages: user: Are disputes concerning Amazon kindle subject to arbitration?\n",
      "\n",
      "    User input to rewrite: What about for Netflix?\n",
      "\n",
      "    Rewritten input: Are disputes concerning Netflix subject to arbitration?\n",
      "    \n",
      "    TASK:\n",
      "\n",
      "    Prior user messages: user: What does Apple do to protect my privacy on iCloud?\n",
      "    \n",
      "    User input to rewrite: Is data encrypted in transit?\n",
      "    \n",
      "    Rewritten input: Is data encrypted in transit when using iCloud?\n"
     ]
    }
   ],
   "source": [
    "response, rewrite_prompt = rewrite_user_input(conversation_history, \"Is data encrypted in transit?\", chat_model_url)\n",
    "print(rewrite_prompt + response)"
   ]
  },
  {
   "cell_type": "code",
   "execution_count": 9,
   "id": "ea022aea",
   "metadata": {},
   "outputs": [
    {
     "name": "stdout",
     "output_type": "stream",
     "text": [
      "\n",
      "    Your task is to rewrite user input to be more suitable for an embedding model. The rewritten input should be self contained and incorporate information from prior user messages as necessary. For example, if no company or service name or question topic is specified in the user input, you should add that information based on the prior user messages. However, take care to preserve the meaning of the original input. Your rewritten input should be only one sentence or question.\n",
      "\n",
      "    EXAMPLES:\n",
      "\n",
      "    Prior user messages: user: What does Apple do to protect my privacy on iCloud?\n",
      "    \n",
      "    User input to rewrite: Do they share my data with third parties?\n",
      "    \n",
      "    Rewritten input: Does Apple share my data with third parties?\n",
      "\n",
      "    Prior user messages: \n",
      "\n",
      "    User input to rewrite: What is the best way to protect my data on iCloud?\n",
      "\n",
      "    Rewritten input: What is the best way to protect my data on Apple's iCloud?\n",
      "\n",
      "    Prior user messages: user: What am I allowed to post on Facebook?\n",
      "user: I'm interested in what kinds of videos I'm allowed to post on Facebook.\n",
      "\n",
      "    User input to rewrite: Clips from movies.\n",
      "\n",
      "    Rewritten input: Can I post clips from movies on Facebook?\n",
      "\n",
      "    Prior user messages: user: Are disputes concerning Amazon kindle subject to arbitration?\n",
      "\n",
      "    User input to rewrite: What about for Netflix?\n",
      "\n",
      "    Rewritten input: Are disputes concerning Netflix subject to arbitration?\n",
      "    \n",
      "    TASK:\n",
      "\n",
      "    Prior user messages: user: What does Apple do to protect my privacy on iCloud?\n",
      "    \n",
      "    User input to rewrite: Do they have a human trafficking statement like Albertsons?\n",
      "    \n",
      "    Rewritten input: Does Apple have a statement regarding human trafficking on iCloud?\n"
     ]
    }
   ],
   "source": [
    "response, rewrite_prompt = rewrite_user_input(conversation_history, \"Do they have a human trafficking statement like Albertsons?\", chat_model_url)\n",
    "print(rewrite_prompt + response)"
   ]
  },
  {
   "cell_type": "code",
   "execution_count": 10,
   "id": "0f9eff83",
   "metadata": {},
   "outputs": [
    {
     "name": "stdout",
     "output_type": "stream",
     "text": [
      "\n",
      "    Your task is to rewrite user input to be more suitable for an embedding model. The rewritten input should be self contained and incorporate information from prior user messages as necessary. For example, if no company or service name or question topic is specified in the user input, you should add that information based on the prior user messages. However, take care to preserve the meaning of the original input. Your rewritten input should be only one sentence or question.\n",
      "\n",
      "    EXAMPLES:\n",
      "\n",
      "    Prior user messages: user: What does Apple do to protect my privacy on iCloud?\n",
      "    \n",
      "    User input to rewrite: Do they share my data with third parties?\n",
      "    \n",
      "    Rewritten input: Does Apple share my data with third parties?\n",
      "\n",
      "    Prior user messages: \n",
      "\n",
      "    User input to rewrite: What is the best way to protect my data on iCloud?\n",
      "\n",
      "    Rewritten input: What is the best way to protect my data on Apple's iCloud?\n",
      "\n",
      "    Prior user messages: user: What am I allowed to post on Facebook?\n",
      "user: I'm interested in what kinds of videos I'm allowed to post on Facebook.\n",
      "\n",
      "    User input to rewrite: Clips from movies.\n",
      "\n",
      "    Rewritten input: Can I post clips from movies on Facebook?\n",
      "\n",
      "    Prior user messages: user: Are disputes concerning Amazon kindle subject to arbitration?\n",
      "\n",
      "    User input to rewrite: What about for Netflix?\n",
      "\n",
      "    Rewritten input: Are disputes concerning Netflix subject to arbitration?\n",
      "    \n",
      "    TASK:\n",
      "\n",
      "    Prior user messages: user: What does Apple do to protect my privacy on iCloud?\n",
      "    \n",
      "    User input to rewrite: End-to-end encryption.\n",
      "    \n",
      "    Rewritten input: Does Apple use end-to-end encryption on iCloud?\n"
     ]
    }
   ],
   "source": [
    "response, rewrite_prompt = rewrite_user_input(conversation_history, \"End-to-end encryption.\", chat_model_url)\n",
    "print(rewrite_prompt + response)"
   ]
  },
  {
   "cell_type": "code",
   "execution_count": 11,
   "id": "4c5c3056",
   "metadata": {},
   "outputs": [
    {
     "name": "stdout",
     "output_type": "stream",
     "text": [
      "\n",
      "    Your task is to rewrite user input to be more suitable for an embedding model. The rewritten input should be self contained and incorporate information from prior user messages as necessary. For example, if no company or service name or question topic is specified in the user input, you should add that information based on the prior user messages. However, take care to preserve the meaning of the original input. Your rewritten input should be only one sentence or question.\n",
      "\n",
      "    EXAMPLES:\n",
      "\n",
      "    Prior user messages: user: What does Apple do to protect my privacy on iCloud?\n",
      "    \n",
      "    User input to rewrite: Do they share my data with third parties?\n",
      "    \n",
      "    Rewritten input: Does Apple share my data with third parties?\n",
      "\n",
      "    Prior user messages: \n",
      "\n",
      "    User input to rewrite: What is the best way to protect my data on iCloud?\n",
      "\n",
      "    Rewritten input: What is the best way to protect my data on Apple's iCloud?\n",
      "\n",
      "    Prior user messages: user: What am I allowed to post on Facebook?\n",
      "user: I'm interested in what kinds of videos I'm allowed to post on Facebook.\n",
      "\n",
      "    User input to rewrite: Clips from movies.\n",
      "\n",
      "    Rewritten input: Can I post clips from movies on Facebook?\n",
      "\n",
      "    Prior user messages: user: Are disputes concerning Amazon kindle subject to arbitration?\n",
      "\n",
      "    User input to rewrite: What about for Netflix?\n",
      "\n",
      "    Rewritten input: Are disputes concerning Netflix subject to arbitration?\n",
      "    \n",
      "    TASK:\n",
      "\n",
      "    Prior user messages: user: What does Apple do to protect my privacy on iCloud?\n",
      "    \n",
      "    User input to rewrite: Account security.\n",
      "    \n",
      "    Rewritten input: Account security.\n"
     ]
    }
   ],
   "source": [
    "response, rewrite_prompt = rewrite_user_input(conversation_history, \"Account security.\", chat_model_url)\n",
    "print(rewrite_prompt + response)"
   ]
  }
 ],
 "metadata": {
  "kernelspec": {
   "display_name": "milvus-rag-web-app",
   "language": "python",
   "name": "python3"
  },
  "language_info": {
   "codemirror_mode": {
    "name": "ipython",
    "version": 3
   },
   "file_extension": ".py",
   "mimetype": "text/x-python",
   "name": "python",
   "nbconvert_exporter": "python",
   "pygments_lexer": "ipython3",
   "version": "3.13.3"
  }
 },
 "nbformat": 4,
 "nbformat_minor": 5
}
