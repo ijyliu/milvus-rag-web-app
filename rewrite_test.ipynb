{
 "cells": [
  {
   "cell_type": "code",
   "execution_count": 1,
   "id": "7edf1b4c",
   "metadata": {},
   "outputs": [],
   "source": [
    "# Add App/RAG_Functions to path\n",
    "from App.RAG_Functions import *"
   ]
  },
  {
   "cell_type": "code",
   "execution_count": 2,
   "id": "24e0369b",
   "metadata": {},
   "outputs": [],
   "source": [
    "conversation_history = [\n",
    "    {\"role\": \"system\", \"content\": \"You are a helpful assistant.\"},\n",
    "    {\"role\": \"user\", \"content\": \"What does Apple do to protect my privacy on iCloud?\"},\n",
    "    {\"role\": \"assistant\", \"content\": '''\n",
    "        Okay, let's break down what Apple does to protect your privacy on iCloud. Based on the provided text, here’s a summary of their key practices:\n",
    "\n",
    "        Apple employs several measures to protect your privacy on iCloud:\n",
    "\n",
    "        End-to-End Encryption: They use this to protect sensitive information – meaning only you have the key to decrypt your data.\n",
    "        Account Security: They’re committed to safeguarding your account itself.\n",
    "        Data Security: They prioritize data security across all their systems.\n",
    "        Responsible Data Handling: Apple believes strong privacy is linked to strong security.\n",
    "        Essentially, Apple uses a multi-layered approach to minimize the risk of data breaches and unauthorized access.\n",
    "\n",
    "        Do you want me to elaborate on any of these points, or perhaps answer a follow-up question about their privacy practices? For example, would you like me to:\n",
    "\n",
    "        Explain end-to-end encryption in more detail?\n",
    "        Discuss how they handle account security?\n",
    "     '''\n",
    "     }\n",
    "]\n",
    "input_text = \"Do they share my data with third parties?\"\n",
    "chat_model_url = \"http://host.docker.internal:3000\""
   ]
  },
  {
   "cell_type": "code",
   "execution_count": 3,
   "id": "256b3a68",
   "metadata": {},
   "outputs": [],
   "source": [
    "response, rewrite_prompt = rewrite_user_input(conversation_history, input_text, chat_model_url)"
   ]
  },
  {
   "cell_type": "code",
   "execution_count": 4,
   "id": "c8014e6c",
   "metadata": {},
   "outputs": [
    {
     "name": "stdout",
     "output_type": "stream",
     "text": [
      "Does Apple share my data with third parties?\n"
     ]
    }
   ],
   "source": [
    "print(response)"
   ]
  },
  {
   "cell_type": "code",
   "execution_count": 5,
   "id": "eaf69ccc",
   "metadata": {},
   "outputs": [
    {
     "name": "stdout",
     "output_type": "stream",
     "text": [
      "\n",
      "    Rewrite the following user input to be more suitable for an embedding model. The rewritten input should be self contained and incorporate conversation history as necessary. For example, if no company name or question topic is specified in the user input, you should add that information based on the conversation history. However, take care to preserve the meaning of the original input. Your rewritten input should be only one sentence or question.\n",
      "\n",
      "    EXAMPLES:\n",
      "\n",
      "    Conversation history: user: What does Apple do to protect my privacy on iCloud?\n",
      "assistant: Okay, let's break down what Apple does to protect your privacy on iCloud. Based on the provided text, here’s a summary of their key practices: Apple employs several measures to protect your privacy on iCloud: End-to-End Encryption: They use this to protect sensitive information – meaning only you have the key to decrypt your data. Account Security: They’re committed to safeguarding your account itself. Data Security: They prioritize data security across all their systems. Responsible Data Handling: Apple believes strong privacy is linked to strong security. Essentially, Apple uses a multi-layered approach to minimize the risk of data breaches and unauthorized access. Do you want me to elaborate on any of these points, or perhaps answer a follow-up question about their privacy practices? For example, would you like me to: Explain end-to-end encryption in more detail? Discuss how they handle account security?\n",
      "    \n",
      "    User input to rewrite: Do they share my data with third parties?\n",
      "    \n",
      "    Rewritten input:Does Apple share my data with third parties?\n",
      "\n",
      "    Conversation history: \n",
      "\n",
      "    User input to rewrite: What is the best way to protect my data on iCloud?\n",
      "\n",
      "    Rewritten input: What is the best way to protect my data on Apple's iCloud?\n",
      "\n",
      "    Conversation history: user: Are disputes concerning Amazon kindle subject to arbitration?\n",
      "assistant: Okay, let’s dive into the context of Amazon disputes and binding arbitration regarding Kindle books: Yes, disputes concerning Amazon Kindle books are subject to binding arbitration. Here’s a breakdown based on the provided context: 4.5 Disputes / Binding Arbitration: This is a significant indicator. It means that Amazon has established a process for resolving disputes with Kindle users. 5.5 Disputes / Binding Arbitration: This reinforces the established process. 4.4 Disputes / Binding Arbitration: This further confirms the established process. In short, Amazon uses binding arbitration to handle disputes with Kindle users. Do you have any other questions about this process or Amazon’s dispute resolution?\n",
      "\n",
      "    User input to rewrite: What about for Netflix?\n",
      "\n",
      "    Rewritten input: Are disputes concerning Netflix subject to arbitration?\n",
      "    \n",
      "    TASK:\n",
      "\n",
      "    Conversation history: user: What does Apple do to protect my privacy on iCloud?\n",
      "assistant: Okay, let's break down what Apple does to protect your privacy on iCloud. Based on the provided text, here’s a summary of their key practices: Apple employs several measures to protect your privacy on iCloud: End-to-End Encryption: They use this to protect sensitive information – meaning only you have the key to decrypt your data. Account Security: They’re committed to safeguarding your account itself. Data Security: They prioritize data security across all their systems. Responsible Data Handling: Apple believes strong privacy is linked to strong security. Essentially, Apple uses a multi-layered approach to minimize the risk of data breaches and unauthorized access. Do you want me to elaborate on any of these points, or perhaps answer a follow-up question about their privacy practices? For example, would you like me to: Explain end-to-end encryption in more detail? Discuss how they handle account security?\n",
      "    \n",
      "    User input to rewrite: Do they share my data with third parties?\n",
      "    \n",
      "    Rewritten input: \n"
     ]
    }
   ],
   "source": [
    "print(rewrite_prompt)"
   ]
  },
  {
   "cell_type": "markdown",
   "id": "2283ca8a",
   "metadata": {},
   "source": [
    "## Stringifying conversation history"
   ]
  },
  {
   "cell_type": "code",
   "execution_count": 6,
   "id": "23d2b517",
   "metadata": {},
   "outputs": [
    {
     "name": "stdout",
     "output_type": "stream",
     "text": [
      "system: You are a helpful assistant.\n",
      "user: What does Apple do to protect my privacy on iCloud?\n",
      "assistant: Okay, let's break down what Apple does to protect your privacy on iCloud. Based on the provided text, here’s a summary of their key practices: Apple employs several measures to protect your privacy on iCloud: End-to-End Encryption: They use this to protect sensitive information – meaning only you have the key to decrypt your data. Account Security: They’re committed to safeguarding your account itself. Data Security: They prioritize data security across all their systems. Responsible Data Handling: Apple believes strong privacy is linked to strong security. Essentially, Apple uses a multi-layered approach to minimize the risk of data breaches and unauthorized access. Do you want me to elaborate on any of these points, or perhaps answer a follow-up question about their privacy practices? For example, would you like me to: Explain end-to-end encryption in more detail? Discuss how they handle account security?\n"
     ]
    }
   ],
   "source": [
    "# Get conversation history in a string format\n",
    "conversation_history_str = \"\\n\".join(\n",
    "    [f\"{entry['role']}: {\" \".join(entry['content'].split())}\" for entry in conversation_history]\n",
    ")\n",
    "print(conversation_history_str)"
   ]
  }
 ],
 "metadata": {
  "kernelspec": {
   "display_name": "milvus-rag-web-app",
   "language": "python",
   "name": "python3"
  },
  "language_info": {
   "codemirror_mode": {
    "name": "ipython",
    "version": 3
   },
   "file_extension": ".py",
   "mimetype": "text/x-python",
   "name": "python",
   "nbconvert_exporter": "python",
   "pygments_lexer": "ipython3",
   "version": "3.13.3"
  }
 },
 "nbformat": 4,
 "nbformat_minor": 5
}
